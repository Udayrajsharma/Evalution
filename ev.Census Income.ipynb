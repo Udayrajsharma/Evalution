{
 "cells": [
  {
   "cell_type": "markdown",
   "id": "47258555",
   "metadata": {},
   "source": [
    "# Census Income\n"
   ]
  },
  {
   "cell_type": "markdown",
   "id": "cad332d6",
   "metadata": {},
   "source": [
    "## Importing Data"
   ]
  },
  {
   "cell_type": "code",
   "execution_count": null,
   "id": "4c475af0",
   "metadata": {},
   "outputs": [],
   "source": [
    "import pandas as pd\n",
    "import numpy as np\n",
    "import seaborn as sns\n",
    "import matplotlib.pyplot as plt\n",
    "import os\n",
    "import joblib\n",
    "import scipy as stats\n",
    "from scipy.stats import zscore\n",
    "from sklearn.preprocessing import PowerTransformer\n",
    "from sklearn.preprocessing import LabelEncoder\n",
    "from sklearn.preprocessing import StandardScaler\n",
    "from statsmodels.stats.outliers_influence import variance_inflation_factor\n",
    "from sklearn.model_selection import train_test_split\n",
    "from sklearn.metrics import mean_absolute_error\n",
    "from sklearn.metrics import mean_squared_error\n",
    "from sklearn.metrics import r2_score\n",
    "from sklearn.linear_model import LinearRegression, Lasso,Ridge\n",
    "from sklearn.ensemble import RandomForestRegressor\n",
    "from sklearn.tree import DecisionTreeRegressor\n",
    "from sklearn.svm import SVR\n",
    "from sklearn.neighbors import KNeighborsRegressor as KNN\n",
    "from sklearn.ensemble import GradientBoostingRegressor\n",
    "from sklearn.linear_model import SGDRegressor\n",
    "from sklearn.metrics import classification_report\n",
    "from sklearn.model_selection import cross_val_score\n",
    "from sklearn import metrics\n",
    "from sklearn.metrics import accuracy_score,classification_report,confusion_matrix,roc_auc_score,roc_curve\n",
    "from sklearn.linear_model import LogisticRegression\n",
    "from sklearn.neighbors import KNeighborsClassifier\n",
    "from sklearn.svm import SVC\n",
    "from sklearn.tree import DecisionTreeClassifier\n",
    "from sklearn.ensemble import AdaBoostClassifier, GradientBoostingClassifier\n",
    "from sklearn.model_selection import GridSearchCV\n",
    "%matplotlib inline\n",
    "import warnings\n",
    "warnings.filterwarnings('ignore')"
   ]
  },
  {
   "cell_type": "code",
   "execution_count": null,
   "id": "0dfdeec1",
   "metadata": {},
   "outputs": [],
   "source": [
    "data=pd.read_csv(\"https://github.com/dsrscientist/dataset1/raw/master/census_income.csv\")\n",
    "data.head()"
   ]
  },
  {
   "cell_type": "code",
   "execution_count": null,
   "id": "1aecef3a",
   "metadata": {},
   "outputs": [],
   "source": [
    "data.shape"
   ]
  },
  {
   "cell_type": "code",
   "execution_count": null,
   "id": "e47a5670",
   "metadata": {},
   "outputs": [],
   "source": [
    "data.sample(5)"
   ]
  },
  {
   "cell_type": "code",
   "execution_count": null,
   "id": "1911869d",
   "metadata": {},
   "outputs": [],
   "source": [
    "data.columns"
   ]
  },
  {
   "cell_type": "markdown",
   "id": "4cbc5775",
   "metadata": {},
   "source": [
    "'''Age : Age of Population\n",
    "\n",
    "Workclass : Workplace information, where pepole work\n",
    "\n",
    "Fnlwgt : sampling weight\n",
    "\n",
    "Education : Education level\n",
    "\n",
    "Education_num :Number of years of education in total\n",
    "\n",
    "Marital_status : Marital_status of population\n",
    "\n",
    "Occupation : Occupation of population\n",
    "\n",
    "Relationship : Relationship\n",
    "\n",
    "Race : race\n",
    "\n",
    "Sex : Sex\n",
    "\n",
    "Capital_gain : income from investment sources other than salary/wages\n",
    "\n",
    "Capital_loss : income from investment sources other than salary/wages\n",
    "\n",
    "Hours_per_week : Working Hour per week\n",
    "\n",
    "Native_country : Native_country\n",
    "\n",
    "Income : Income'''"
   ]
  },
  {
   "cell_type": "code",
   "execution_count": null,
   "id": "f50f5aad",
   "metadata": {},
   "outputs": [],
   "source": [
    "data.info()"
   ]
  },
  {
   "cell_type": "markdown",
   "id": "e699ef4d",
   "metadata": {},
   "source": [
    "# Data Information:\n",
    "#Dataset have 32560 entries, 0 to 32559\n",
    "\n",
    "#Data having 32560 Rows and 15 columns\n",
    "\n",
    "##From above information we can say data having 32560 non-null values in all the columns\n",
    "\n",
    "#But from sample we can see '?' present in some columns. Those columms are Workclass, Occupation,\n",
    "we will check for this also.\n",
    "\n",
    "#Data having 6 int data type values and 9 object data type. -->\n",
    "\n"
   ]
  },
  {
   "cell_type": "markdown",
   "id": "4d8fd0f3",
   "metadata": {},
   "source": [
    "# Checkign null values or wrong entry."
   ]
  },
  {
   "cell_type": "code",
   "execution_count": null,
   "id": "9c71ef0e",
   "metadata": {},
   "outputs": [],
   "source": [
    "data.isnull().sum()"
   ]
  },
  {
   "cell_type": "markdown",
   "id": "8029eea1",
   "metadata": {},
   "source": [
    "Here we can see data set having all the filled with some values, no null is present.\n",
    "\n",
    "Lets check the wrong entries."
   ]
  },
  {
   "cell_type": "code",
   "execution_count": null,
   "id": "08f31f59",
   "metadata": {},
   "outputs": [],
   "source": [
    "data.isin([\" ?\"]).sum()"
   ]
  },
  {
   "cell_type": "markdown",
   "id": "0f8a7812",
   "metadata": {},
   "source": [
    "In our data Workclass, Occupation. Native_country are having wrong entries. Lets drop these Rows\n",
    "\n"
   ]
  },
  {
   "cell_type": "code",
   "execution_count": null,
   "id": "e45524a7",
   "metadata": {},
   "outputs": [],
   "source": [
    "data.replace(to_replace=\" ?\", value=np.nan, inplace= True)\n"
   ]
  },
  {
   "cell_type": "code",
   "execution_count": null,
   "id": "c34c5b75",
   "metadata": {},
   "outputs": [],
   "source": [
    "data =data.dropna()\n",
    "data"
   ]
  },
  {
   "cell_type": "code",
   "execution_count": null,
   "id": "283f4eec",
   "metadata": {},
   "outputs": [],
   "source": [
    "data.isnull().sum()"
   ]
  },
  {
   "cell_type": "code",
   "execution_count": null,
   "id": "3c8f7cde",
   "metadata": {},
   "outputs": [],
   "source": [
    "data.sample(5)"
   ]
  },
  {
   "cell_type": "markdown",
   "id": "2afcce47",
   "metadata": {},
   "source": [
    "# EDA"
   ]
  },
  {
   "cell_type": "markdown",
   "id": "a06ca5e4",
   "metadata": {},
   "source": [
    "Lets first seperate categorical and Numerical colums."
   ]
  },
  {
   "cell_type": "code",
   "execution_count": null,
   "id": "4c847f65",
   "metadata": {},
   "outputs": [],
   "source": [
    "cat_features= data.select_dtypes(include=[np.object])\n",
    "cat_features.head()"
   ]
  },
  {
   "cell_type": "markdown",
   "id": "5122e3d3",
   "metadata": {},
   "source": [
    "# Univariate Aanalysis"
   ]
  },
  {
   "cell_type": "code",
   "execution_count": null,
   "id": "bd726f58",
   "metadata": {},
   "outputs": [],
   "source": [
    "sns.set_theme(style=\"darkgrid\")\n",
    "plt.figure(figsize=(15,8))\n",
    "plt.subplot(1,2,1)\n",
    "sns.countplot(y=cat_features['Workclass'] )\n",
    "plt.xlabel('Count', fontsize=15 )\n",
    "plt.ylabel('Workclass', fontsize=15 )\n",
    "plt.title('Workclass', fontsize=15)\n",
    "plt.subplot(1,2,2)\n",
    "cat_features.groupby('Workclass').size().plot(kind='pie', autopct='%.2f')\n",
    "plt.title('Workclass', fontsize=15)\n",
    "plt.show()"
   ]
  },
  {
   "cell_type": "markdown",
   "id": "b16039ae",
   "metadata": {},
   "source": [
    "Here we can see 73.89 percent of the population working in Private sector"
   ]
  },
  {
   "cell_type": "code",
   "execution_count": null,
   "id": "fec72c1f",
   "metadata": {},
   "outputs": [],
   "source": [
    "sns.set_theme(style=\"darkgrid\")\n",
    "plt.figure(figsize=(15,8))\n",
    "\n",
    "plt.subplot(1,2,1)\n",
    "sns.countplot(y=cat_features['Education'])\n",
    "plt.xlabel('Count', fontsize=15 )\n",
    "plt.ylabel('Education', fontsize=15 )\n",
    "plt.title('Education', fontsize=15)\n",
    "\n",
    "plt.subplot(1,2,2)\n",
    "cat_features.groupby('Education').size().plot(kind='pie', autopct='%.2f')\n",
    "plt.title('Education', fontsize=15)\n",
    "plt.show()"
   ]
  },
  {
   "cell_type": "markdown",
   "id": "70309b6d",
   "metadata": {},
   "source": [
    "32.62 percent population is HS-grad, only 1.24 percent of the population is doctrate."
   ]
  },
  {
   "cell_type": "code",
   "execution_count": null,
   "id": "c44cd185",
   "metadata": {},
   "outputs": [],
   "source": [
    "sns.set_theme(style=\"darkgrid\")\n",
    "plt.figure(figsize=(15,8))\n",
    "\n",
    "plt.subplot(1,2,1)\n",
    "sns.countplot(y=cat_features['Marital_status'] )\n",
    "plt.xlabel('Count', fontsize=15 )\n",
    "plt.ylabel('Marital_status', fontsize=15 )\n",
    "plt.title('Marital_status', fontsize=15)\n",
    "\n",
    "plt.subplot(1,2,2)\n",
    "cat_features.groupby('Marital_status').size().plot(kind='pie', autopct='%.2f')\n",
    "plt.title('Marital_status', fontsize=15)\n",
    "plt.show()"
   ]
  },
  {
   "cell_type": "markdown",
   "id": "856305fd",
   "metadata": {},
   "source": [
    "We can see 46.63 population is married civ spouse, and there is considerable numbers of Never married group."
   ]
  },
  {
   "cell_type": "code",
   "execution_count": null,
   "id": "b8356bfc",
   "metadata": {},
   "outputs": [],
   "source": [
    "sns.set_theme(style=\"darkgrid\")\n",
    "plt.figure(figsize=(15,8))\n",
    "\n",
    "plt.subplot(1,2,1)\n",
    "sns.countplot(y=cat_features['Occupation'] )\n",
    "plt.xlabel('Count', fontsize=15 )\n",
    "plt.ylabel('Occupation', fontsize=15 )\n",
    "plt.title('Occupation', fontsize=15)\n",
    "\n",
    "plt.subplot(1,2,2)\n",
    "cat_features.groupby('Occupation').size().plot(kind='pie', autopct='%.2f')\n",
    "plt.title('Occupation', fontsize=15)\n",
    "plt.show()"
   ]
  },
  {
   "cell_type": "markdown",
   "id": "61c5fef3",
   "metadata": {},
   "source": [
    "Here we can see around 52 percent of the population is at very good posotion.\n",
    "This percentage includes Prof-specialty , adm-clerial , Excel Managerial, and craft repair\n",
    "Only 0.47 percent of the population is Priv-house servent."
   ]
  },
  {
   "cell_type": "code",
   "execution_count": null,
   "id": "92c2bd00",
   "metadata": {},
   "outputs": [],
   "source": [
    "sns.set_theme(style=\"darkgrid\")\n",
    "plt.figure(figsize=(15,8))\n",
    "\n",
    "plt.subplot(1,2,1)\n",
    "sns.countplot(y=cat_features['Relationship'])\n",
    "plt.xlabel('Count', fontsize=15 )\n",
    "plt.ylabel('Relationship', fontsize=15 )\n",
    "plt.title('Relationship', fontsize=15)\n",
    "\n",
    "plt.subplot(1,2,2)\n",
    "cat_features.groupby('Relationship').size().plot(kind='pie', autopct='%.2f')\n",
    "plt.title('Relationship', fontsize=15)\n",
    "plt.show()"
   ]
  },
  {
   "cell_type": "markdown",
   "id": "a6c68391",
   "metadata": {},
   "source": [
    "Here we can see 41.32 percent of the population have relationship as husband, means they are male.\n",
    "And 10.65 population is Unmarried."
   ]
  },
  {
   "cell_type": "code",
   "execution_count": null,
   "id": "db5a578b",
   "metadata": {},
   "outputs": [],
   "source": [
    "sns.set_theme(style=\"darkgrid\")\n",
    "plt.figure(figsize=(15,8))\n",
    "\n",
    "plt.subplot(1,2,1)\n",
    "sns.countplot(y=cat_features['Race'])\n",
    "plt.xlabel('Count', fontsize=15 )\n",
    "plt.ylabel('Race', fontsize=15 )\n",
    "plt.title('Race', fontsize=15)\n",
    "\n",
    "plt.subplot(1,2,2)\n",
    "cat_features.groupby('Race').size().plot(kind='pie', autopct='%.2f')\n",
    "plt.title('Race', fontsize=15)\n",
    "plt.show()\n"
   ]
  },
  {
   "cell_type": "markdown",
   "id": "d37781dd",
   "metadata": {},
   "source": [
    "85.98 percent population is White.\n",
    "only 9.34 pepole are black."
   ]
  },
  {
   "cell_type": "code",
   "execution_count": null,
   "id": "b4393e92",
   "metadata": {},
   "outputs": [],
   "source": [
    "sns.set_theme(style=\"darkgrid\")\n",
    "plt.figure(figsize=(15,8))\n",
    "\n",
    "plt.subplot(1,2,1)\n",
    "sns.countplot(y=cat_features['Sex'])\n",
    "plt.xlabel('Count', fontsize=15 )\n",
    "plt.ylabel('Sex', fontsize=15 )\n",
    "plt.title('Sex', fontsize=15)\n",
    "\n",
    "plt.subplot(1,2,2)\n",
    "cat_features.groupby('Sex').size().plot(kind='pie', autopct='%.2f')\n",
    "plt.title('Sex', fontsize=15)\n",
    "plt.show()"
   ]
  },
  {
   "cell_type": "markdown",
   "id": "7c6aeafe",
   "metadata": {},
   "source": [
    "We can see 67.57 percent of the population is Male\n",
    "It indicatets female workers are less in number."
   ]
  },
  {
   "cell_type": "code",
   "execution_count": null,
   "id": "c5657e12",
   "metadata": {},
   "outputs": [],
   "source": [
    "sns.set_theme(style=\"darkgrid\")\n",
    "plt.figure(figsize=(15,8))\n",
    "\n",
    "plt.subplot(1,2,1)\n",
    "sns.countplot(y=cat_features['Native_country'])\n",
    "plt.xlabel('Count', fontsize=15 )\n",
    "plt.ylabel('Native_country', fontsize=15 )\n",
    "plt.title('Native_country', fontsize=15)"
   ]
  },
  {
   "cell_type": "markdown",
   "id": "4a975549",
   "metadata": {},
   "source": [
    "Here we can see more than 95 percent of the populaton is from United-states\n",
    "This is becuase the data is collected form US population."
   ]
  },
  {
   "cell_type": "code",
   "execution_count": null,
   "id": "83737318",
   "metadata": {},
   "outputs": [],
   "source": [
    "sns.set_theme(style=\"darkgrid\")\n",
    "plt.figure(figsize=(15,8))\n",
    "\n",
    "plt.subplot(1,2,1)\n",
    "sns.countplot(y=cat_features['Income'])\n",
    "plt.xlabel('Count', fontsize=15 )\n",
    "plt.ylabel('Income', fontsize=15 )\n",
    "plt.title('Income', fontsize=15)\n",
    "\n",
    "plt.subplot(1,2,2)\n",
    "cat_features.groupby('Income').size().plot(kind='pie', autopct='%.2f')\n",
    "plt.title('Income', fontsize=15)\n",
    "plt.show()\n"
   ]
  },
  {
   "cell_type": "markdown",
   "id": "53ad7568",
   "metadata": {},
   "source": [
    "Our Target columns having very good information. 75.11 percent of population have anual income <=50K\n",
    "Only 24.89 percentage of pepole are >=50K"
   ]
  },
  {
   "cell_type": "code",
   "execution_count": null,
   "id": "fa0375d1",
   "metadata": {},
   "outputs": [],
   "source": [
    "num_features= data.select_dtypes(include=[np.number])"
   ]
  },
  {
   "cell_type": "code",
   "execution_count": null,
   "id": "4f0942b7",
   "metadata": {},
   "outputs": [],
   "source": [
    "sns.set_theme(style=\"darkgrid\")\n",
    "plt.figure(figsize=(15,5))\n",
    "\n",
    "sns.histplot(num_features['Age'], bins= 8)\n",
    "plt.xlabel('Age', fontsize=15 )\n",
    "plt.ylabel('Count', fontsize=15 )\n",
    "plt.title('Age', fontsize=15)"
   ]
  },
  {
   "cell_type": "markdown",
   "id": "ae14ce9e",
   "metadata": {},
   "source": [
    "From histogram, we can predict most of The working age of US pupulation is between 20-50\n",
    "very few pepole are working in the age above 50."
   ]
  },
  {
   "cell_type": "code",
   "execution_count": null,
   "id": "6c0312f0",
   "metadata": {},
   "outputs": [],
   "source": [
    "sns.set_theme(style=\"darkgrid\")\n",
    "plt.figure(figsize=(20,8))\n",
    "\n",
    "plt.subplot(1,2,1)\n",
    "sns.countplot(y=num_features['Education_num'])\n",
    "plt.xlabel('Count', fontsize=15 )\n",
    "plt.ylabel('Education_num', fontsize=15 )\n",
    "plt.title('Education_num', fontsize=15)\n",
    "\n",
    "plt.subplot(1,2,2)\n",
    "num_features.groupby('Education_num').size().plot(kind='pie', autopct='%.2f')\n",
    "plt.title('Education_num', fontsize=15)\n",
    "plt.show()\n"
   ]
  },
  {
   "cell_type": "markdown",
   "id": "510ead57",
   "metadata": {},
   "source": [
    "Education_num indicates number of years of education,\n",
    "32.62 percent pepole are having 9 years of education ony, 22.14 are having 10 years education. Ppulation with higher education is low."
   ]
  },
  {
   "cell_type": "code",
   "execution_count": null,
   "id": "a92e532b",
   "metadata": {},
   "outputs": [],
   "source": [
    "plt.figure(figsize=(15,5))\n",
    "\n",
    "sns.distplot(num_features['Capital_gain'])\n",
    "plt.xlabel('Capital_gain', fontsize=15 )\n",
    "plt.ylabel('Density', fontsize=15 )\n",
    "plt.title('Capital_gain', fontsize=15)"
   ]
  },
  {
   "cell_type": "markdown",
   "id": "26bce66f",
   "metadata": {},
   "source": [
    "Probablity for 0 capital gain is very high,\n",
    "data having outliers and skewness"
   ]
  },
  {
   "cell_type": "code",
   "execution_count": null,
   "id": "91c60e1f",
   "metadata": {},
   "outputs": [],
   "source": [
    "plt.figure(figsize=(15,5))\n",
    "\n",
    "sns.distplot(num_features['Capital_loss'])\n",
    "plt.xlabel('Capital_loss', fontsize=15 )\n",
    "plt.ylabel('Density', fontsize=15 )\n",
    "plt.title('Capital_loss', fontsize=15)"
   ]
  },
  {
   "cell_type": "markdown",
   "id": "b7f6a9ac",
   "metadata": {},
   "source": [
    "Probablity for 0 capital loss is very high,\n",
    "data having outliers and skewness"
   ]
  },
  {
   "cell_type": "code",
   "execution_count": null,
   "id": "605e5d07",
   "metadata": {},
   "outputs": [],
   "source": [
    "sns.set_theme(style=\"darkgrid\")\n",
    "plt.figure(figsize=(20,8))\n",
    "\n",
    "plt.subplot(1,2,1)\n",
    "sns.distplot(num_features['Hours_per_week'])\n",
    "plt.xlabel('Count', fontsize=15 )\n",
    "plt.ylabel('Hours_per_week', fontsize=15 )\n",
    "plt.title('Hours_per_week', fontsize=15)"
   ]
  },
  {
   "cell_type": "markdown",
   "id": "67f52070",
   "metadata": {},
   "source": [
    "We can see probablity of 40 hrs/week is very high"
   ]
  },
  {
   "cell_type": "markdown",
   "id": "fb37e6c3",
   "metadata": {},
   "source": [
    "# Bivariate Analysis\n"
   ]
  },
  {
   "cell_type": "markdown",
   "id": "bb508020",
   "metadata": {},
   "source": [
    "Here we will analize our data, considering target column,\n",
    "We will check how target is effected due to Features columns."
   ]
  },
  {
   "cell_type": "code",
   "execution_count": null,
   "id": "4a48d597",
   "metadata": {},
   "outputs": [],
   "source": [
    "plt.figure(figsize=(15,7))\n",
    "sns.countplot(x='Workclass', hue='Income', data= data)\n",
    "plt.xlabel('Workclass', fontsize= 15)\n",
    "plt.ylabel('Count', fontsize= 15)\n",
    "plt.show()"
   ]
  },
  {
   "cell_type": "code",
   "execution_count": null,
   "id": "8fd5d7a6",
   "metadata": {},
   "outputs": [],
   "source": [
    "pd.crosstab(data['Income'], data['Workclass'])"
   ]
  },
  {
   "cell_type": "markdown",
   "id": "8a5afce3",
   "metadata": {},
   "source": [
    "We have max population working in Private setor whose income income is <=50K per year.\n",
    "At same time pepole working in private sector are more as compared to other setcor, whose income is >=50K per year."
   ]
  },
  {
   "cell_type": "code",
   "execution_count": null,
   "id": "cba03633",
   "metadata": {},
   "outputs": [],
   "source": [
    "plt.figure(figsize=(20,7))\n",
    "sns.countplot(x='Education', hue='Income', data= data)\n",
    "plt.xlabel('Education', fontsize= 15)\n",
    "plt.ylabel('Count', fontsize= 15)\n",
    "plt.show()"
   ]
  },
  {
   "cell_type": "markdown",
   "id": "7cf024d0",
   "metadata": {},
   "source": [
    "Here the graph indicates that population with higher degree have more chance to have income >=50K"
   ]
  },
  {
   "cell_type": "code",
   "execution_count": null,
   "id": "0f9b23e6",
   "metadata": {},
   "outputs": [],
   "source": [
    "plt.figure(figsize=(20,7))\n",
    "sns.countplot(x='Marital_status', hue='Income', data= data)\n",
    "plt.xlabel('Marital_status', fontsize= 15)\n",
    "plt.ylabel('Count', fontsize= 15)\n",
    "plt.show()"
   ]
  },
  {
   "cell_type": "markdown",
   "id": "ddb306ba",
   "metadata": {},
   "source": [
    "We can see Married civ spouse population is having higher number of Income which >=50k, as compared to other columns,\n",
    "we can say Married civ spouse is having higher possiblity to have income >=50K\n",
    "Other category not showing very good relation."
   ]
  },
  {
   "cell_type": "code",
   "execution_count": null,
   "id": "0603d48c",
   "metadata": {},
   "outputs": [],
   "source": [
    "plt.figure(figsize=(15,7))\n",
    "sns.countplot(x='Occupation', hue='Income', data= data)\n",
    "plt.xlabel('Occupation', fontsize= 15)\n",
    "plt.ylabel('Count', fontsize= 15)\n",
    "locs, labels = plt.xticks(fontsize= 15)\n",
    "plt.setp(labels, rotation=80)\n",
    "plt.show()"
   ]
  },
  {
   "cell_type": "markdown",
   "id": "a46b846b",
   "metadata": {},
   "source": [
    "Occupation like Exce-managerial and Prof-specialty having higher population with income >=50K.\n",
    "In other occupation count is very less for income>=50K\n",
    "It indicates occupation have good impact to have income>=50K"
   ]
  },
  {
   "cell_type": "code",
   "execution_count": null,
   "id": "15e2ecdb",
   "metadata": {},
   "outputs": [],
   "source": [
    "plt.figure(figsize=(15,7))\n",
    "sns.countplot(x='Race', hue='Income', data= data)\n",
    "plt.xlabel('Race', fontsize= 15)\n",
    "plt.ylabel('Count', fontsize= 15)\n",
    "locs, labels = plt.xticks(fontsize= 15)\n",
    "plt.setp(labels, rotation=80)\n",
    "plt.show()"
   ]
  },
  {
   "cell_type": "markdown",
   "id": "fbad1ae4",
   "metadata": {},
   "source": [
    "Here we can see majority of population is White, so there change of getting income>=50K, Is higher."
   ]
  },
  {
   "cell_type": "code",
   "execution_count": null,
   "id": "13178c5a",
   "metadata": {},
   "outputs": [],
   "source": [
    "plt.figure(figsize=(10,7))\n",
    "sns.countplot(x='Relationship', hue='Income', data= data)\n",
    "plt.xlabel('Relationship', fontsize= 15)\n",
    "plt.ylabel('Count', fontsize= 15)\n",
    "locs, labels = plt.xticks(fontsize= 15)\n",
    "plt.setp(labels, rotation=80)\n",
    "plt.show()"
   ]
  },
  {
   "cell_type": "markdown",
   "id": "9d47a4bc",
   "metadata": {},
   "source": [
    "Here we can see husband colummn having higher count for income>=50K\n",
    "It also indiactes Married man population count is higher than than the unmarried."
   ]
  },
  {
   "cell_type": "code",
   "execution_count": null,
   "id": "5d592cbb",
   "metadata": {},
   "outputs": [],
   "source": [
    "plt.figure(figsize=(10,7))\n",
    "sns.countplot(x='Sex', hue='Income', data= data)\n",
    "plt.xlabel('Sex', fontsize= 15)\n",
    "plt.ylabel('Count', fontsize= 15)\n",
    "plt.show()\n",
    "pd.crosstab(data['Income'], data['Sex'])"
   ]
  },
  {
   "cell_type": "markdown",
   "id": "5e99f543",
   "metadata": {},
   "source": [
    "We can see Male population is having highher count as compared to Female, for income>=50K\n",
    "\n",
    "before startng with visualisation of numerical data. lets firt encode the Target column.\n",
    "we will use LabelEncoder."
   ]
  },
  {
   "cell_type": "code",
   "execution_count": null,
   "id": "35c8b8e1",
   "metadata": {},
   "outputs": [],
   "source": [
    "from sklearn.preprocessing import LabelEncoder\n",
    "le=LabelEncoder()\n",
    "data['Income']=le.fit_transform(data['Income'])"
   ]
  },
  {
   "cell_type": "markdown",
   "id": "91186e3b",
   "metadata": {},
   "source": [
    "Here we can see number as most of the population in working with income<=50."
   ]
  },
  {
   "cell_type": "code",
   "execution_count": null,
   "id": "8bafae1e",
   "metadata": {},
   "outputs": [],
   "source": [
    "plt.figure(figsize=(10,7))\n",
    "sns.distplot(data[data['Income']==0]['Age'], hist=False)\n",
    "sns.distplot(data[data['Income']==1]['Age'], hist=False )"
   ]
  },
  {
   "cell_type": "markdown",
   "id": "48bd6691",
   "metadata": {},
   "source": [
    "Here we can see initially when the age is less, probablity of having income <=50K is High.\n",
    "As age increases the probablity of having income >=50K is is increasing, it is high at age of 40-50"
   ]
  },
  {
   "cell_type": "code",
   "execution_count": null,
   "id": "bf3edb85",
   "metadata": {},
   "outputs": [],
   "source": [
    "plt.figure(figsize=(10,6))\n",
    "sns.distplot(data[data['Income']==0]['Education_num'], hist=False )\n",
    "sns.distplot(data[data['Income']==1]['Education_num'], hist=False )\n"
   ]
  },
  {
   "cell_type": "markdown",
   "id": "e6a24ef5",
   "metadata": {},
   "source": [
    "Here we can clearly see with increase in the number of Education chance of having income>=50K is high.\n",
    "At point where education_num >12.5, we cans see drastic chaneg in the population with income>=50K."
   ]
  },
  {
   "cell_type": "code",
   "execution_count": null,
   "id": "dafbf903",
   "metadata": {},
   "outputs": [],
   "source": [
    "plt.figure(figsize=(10,7))\n",
    "sns.distplot(data[data['Income']==0]['Hours_per_week'], hist=False )\n",
    "sns.distplot(data[data['Income']==1]['Hours_per_week'], hist=False )"
   ]
  },
  {
   "cell_type": "markdown",
   "id": "5afa1590",
   "metadata": {},
   "source": [
    "# Multivarite Analysis"
   ]
  },
  {
   "cell_type": "code",
   "execution_count": null,
   "id": "a0cfface",
   "metadata": {},
   "outputs": [],
   "source": [
    "plt.figure(figsize=(10,7))\n",
    "sns.barplot(x='Sex',y='Age', hue='Income', data= data)\n",
    "plt.xlabel('Sex', fontsize= 15)\n",
    "plt.ylabel('Workclass', fontsize= 15)\n",
    "plt.show()"
   ]
  },
  {
   "cell_type": "markdown",
   "id": "8ec2d9d9",
   "metadata": {},
   "source": [
    "Here we can see for male and female both as age increases, the population count for income>=50K, also increases."
   ]
  },
  {
   "cell_type": "code",
   "execution_count": null,
   "id": "93667ab0",
   "metadata": {},
   "outputs": [],
   "source": [
    "plt.figure(figsize=(20,7))\n",
    "sns.barplot(x='Occupation',y='Education_num', hue='Income', data= data)\n",
    "plt.xlabel('Occupation', fontsize= 15)\n",
    "plt.ylabel('Education_num', fontsize= 15)\n",
    "locs, labels = plt.xticks(fontsize= 15)\n",
    "plt.setp(labels, rotation=80)\n",
    "plt.show()"
   ]
  },
  {
   "cell_type": "markdown",
   "id": "e3919cd5",
   "metadata": {},
   "source": [
    "Here we can see With increase in the Education years, income also increase in same occupation.\n",
    "Population having same occupation, but due to Higher Education They are earning >=50K, in same occuaption.\n"
   ]
  },
  {
   "cell_type": "code",
   "execution_count": null,
   "id": "41c6b971",
   "metadata": {},
   "outputs": [],
   "source": [
    "\n",
    "plt.figure(figsize=(20,7))\n",
    "sns.barplot(x='Education',y='Age', hue='Income', data= data)\n",
    "plt.xlabel('Education', fontsize= 15)\n",
    "plt.ylabel('Age', fontsize= 15)\n",
    "locs, labels = plt.xticks(fontsize= 15)\n",
    "plt.setp(labels, rotation=80)\n",
    "plt.show()"
   ]
  },
  {
   "cell_type": "markdown",
   "id": "c4413525",
   "metadata": {},
   "source": [
    "Here we can see Age is having considerable effect on Income\n",
    "With same eduaction background, pepole earning more due to their age diffrence, or indiractly we can say due to more experience.\n",
    "\n"
   ]
  },
  {
   "cell_type": "code",
   "execution_count": null,
   "id": "1fd8dcba",
   "metadata": {},
   "outputs": [],
   "source": [
    "plt.figure(figsize=(20,7))\n",
    "sns.barplot(x='Occupation',y='Hours_per_week', hue='Income', data= data)\n",
    "plt.xlabel('Occupation', fontsize= 15)\n",
    "plt.ylabel('Hours_per_week', fontsize= 15)\n",
    "locs, labels = plt.xticks(fontsize= 15)\n",
    "plt.setp(labels, rotation=80)\n",
    "plt.show()"
   ]
  },
  {
   "cell_type": "markdown",
   "id": "dd1527e0",
   "metadata": {},
   "source": [
    "Here we can see for same occupation if a person workign extra per week. He is getting extra pay.\n",
    "Thats why as the workign hours increases , chance to get income >=50K is higher.\n",
    "\n"
   ]
  },
  {
   "cell_type": "markdown",
   "id": "cb705cdf",
   "metadata": {},
   "source": [
    "# EDA SUMMARY\n"
   ]
  },
  {
   "cell_type": "markdown",
   "id": "e68bb58e",
   "metadata": {},
   "source": [
    "Workclass: Pepole workign in private sector having less change to have income>=50K, Chances for Self-emp=ic and Gov employee are High.\n",
    "Education:Education Increases the chance of getting income>=50K, Higher the education, higher the income.\n",
    "Marital_status:Married-civ-spouse Increases the chance of getting income>=50K, Higher the education, higher the income.\n",
    "Occupation: Occupation increase the chance of getting income>=50K.\n",
    "Relationship: For Husband, chance is good for getting income>=50K , but other relations not showing good relation.\n",
    "Race: Most of the pepole are White, so change of getting income>=50k, is higher, but other category are not showing good relation.\n",
    "Sex: For male Population chance of getting income>=50K ,is higher.\n",
    "Native_country: Native country is not having considrable effect, as most of the pepole are from US.\n",
    "Age: Age have considrable effect, We have seen as the age increses channce of getting income>=50K, also increases.\n",
    "Education_num: It also have considrable effect, We have seen as the Education_num increses channce of getting income>=50K, also increases.\n",
    "Capital_gain: No considerable effect.\n",
    "Capital_loss: No considrable effect\n",
    "Hours_per_week: More the working hours, higher the channce to get income>=50K.\n"
   ]
  },
  {
   "cell_type": "markdown",
   "id": "460cdfb8",
   "metadata": {},
   "source": [
    "\n",
    "# Data Preprocessing"
   ]
  },
  {
   "cell_type": "markdown",
   "id": "804cda2b",
   "metadata": {},
   "source": [
    "Lets first drop the Columns not relevent for Model Devlopment.\n",
    "We will drop Capital_gain, Capital_loss and Fnlwgt as they are not relevent."
   ]
  },
  {
   "cell_type": "code",
   "execution_count": null,
   "id": "7533a519",
   "metadata": {},
   "outputs": [],
   "source": [
    "data.drop(['Fnlwgt','Capital_gain', 'Capital_loss'], axis=True, inplace= True)\n",
    "data"
   ]
  },
  {
   "cell_type": "code",
   "execution_count": null,
   "id": "10e79c63",
   "metadata": {},
   "outputs": [],
   "source": [
    "data.shape"
   ]
  },
  {
   "cell_type": "code",
   "execution_count": null,
   "id": "7b8e471e",
   "metadata": {},
   "outputs": [],
   "source": [
    "feature=data.drop(['Income','Education'], axis=1)"
   ]
  },
  {
   "cell_type": "code",
   "execution_count": null,
   "id": "03da3c1f",
   "metadata": {},
   "outputs": [],
   "source": [
    "target= data['Income']\n"
   ]
  },
  {
   "cell_type": "code",
   "execution_count": null,
   "id": "6d749d25",
   "metadata": {},
   "outputs": [],
   "source": [
    "pd.set_option('display.max_columns', None)\n"
   ]
  },
  {
   "cell_type": "code",
   "execution_count": null,
   "id": "808f72c0",
   "metadata": {},
   "outputs": [],
   "source": [
    "data_new= pd.get_dummies(feature,sparse=False, drop_first=True )\n",
    "data_new"
   ]
  },
  {
   "cell_type": "code",
   "execution_count": null,
   "id": "5b32d4df",
   "metadata": {},
   "outputs": [],
   "source": [
    "from sklearn.preprocessing import LabelEncoder\n",
    "le=LabelEncoder()\n",
    "data_new['Education']=le.fit_transform(data['Education'])\n",
    "data_new['Income']= target\n",
    "data_new.head()"
   ]
  },
  {
   "cell_type": "code",
   "execution_count": null,
   "id": "cae81a95",
   "metadata": {},
   "outputs": [],
   "source": [
    "data_new.corr()"
   ]
  },
  {
   "cell_type": "code",
   "execution_count": null,
   "id": "5ce903e4",
   "metadata": {},
   "outputs": [],
   "source": [
    "plt.figure(figsize=(25,40))\n",
    "data_new.corr()['Income'].sort_values(ascending=False).drop(['Income']).plot(kind='barh',color='c')\n",
    "plt.xlabel('Feature', fontsize=14)\n",
    "plt.ylabel('Columns with target name', fontsize=14)\n",
    "plt.title('Correlation',fontsize=18)\n",
    "plt.show()"
   ]
  },
  {
   "cell_type": "markdown",
   "id": "fa02ecaf",
   "metadata": {},
   "source": [
    "Here we can see in the graphs , Native country hungry having 0 correlation with the income,\n",
    "Columns on the left of 0.0 are positive correlated , on the other hand values on the left of the 0.0 are negative correlated.\n",
    "\n"
   ]
  },
  {
   "cell_type": "markdown",
   "id": "811910df",
   "metadata": {},
   "source": [
    "# Checkign outliers and skewness\n"
   ]
  },
  {
   "cell_type": "markdown",
   "id": "aa3cce3c",
   "metadata": {},
   "source": [
    "Most of the columns are categorical, we will remove skewness from few columns only."
   ]
  },
  {
   "cell_type": "code",
   "execution_count": null,
   "id": "4d4e053b",
   "metadata": {},
   "outputs": [],
   "source": [
    "pd.set_option('display.max_rows', None)\n"
   ]
  },
  {
   "cell_type": "code",
   "execution_count": null,
   "id": "5819a4eb",
   "metadata": {},
   "outputs": [],
   "source": [
    "data_new.skew()"
   ]
  },
  {
   "cell_type": "markdown",
   "id": "b21e0437",
   "metadata": {},
   "source": [
    "Age, Education_num, Hours_per_week are not having skewness we can proceed further."
   ]
  },
  {
   "cell_type": "markdown",
   "id": "b7a15f3e",
   "metadata": {},
   "source": [
    "# Scaling the data Using StandardScaler."
   ]
  },
  {
   "cell_type": "code",
   "execution_count": null,
   "id": "ff8ee1d6",
   "metadata": {},
   "outputs": [],
   "source": [
    "# Dividing into Feature and Target data\n",
    "x=data_new.drop(['Income'],axis=1)\n",
    "y=data_new['Income']"
   ]
  },
  {
   "cell_type": "code",
   "execution_count": null,
   "id": "7359a61e",
   "metadata": {},
   "outputs": [],
   "source": [
    "from sklearn.preprocessing import StandardScaler"
   ]
  },
  {
   "cell_type": "code",
   "execution_count": null,
   "id": "9f0093b6",
   "metadata": {},
   "outputs": [],
   "source": [
    "SDC=StandardScaler()\n",
    "x=SDC.fit_transform(x)"
   ]
  },
  {
   "cell_type": "code",
   "execution_count": null,
   "id": "4de8770b",
   "metadata": {},
   "outputs": [],
   "source": [
    "sns.countplot(y)"
   ]
  },
  {
   "cell_type": "markdown",
   "id": "89daead8",
   "metadata": {},
   "source": [
    "Here we can see our output is not balanced we will now use SMOTE to balance the output.\n"
   ]
  },
  {
   "cell_type": "code",
   "execution_count": null,
   "id": "fdac16b0",
   "metadata": {},
   "outputs": [],
   "source": [
    "\n",
    "from imblearn.over_sampling import SMOTE"
   ]
  },
  {
   "cell_type": "code",
   "execution_count": null,
   "id": "21208388",
   "metadata": {},
   "outputs": [],
   "source": [
    "X_train_over, Y_train_over =SMOTE(k_neighbors=3).fit_resample(x,y)"
   ]
  },
  {
   "cell_type": "code",
   "execution_count": null,
   "id": "44dbdbdd",
   "metadata": {},
   "outputs": [],
   "source": [
    "X_train_over.shape"
   ]
  },
  {
   "cell_type": "code",
   "execution_count": null,
   "id": "36673ef5",
   "metadata": {},
   "outputs": [],
   "source": [
    "Y_train_over.value_counts()"
   ]
  },
  {
   "cell_type": "code",
   "execution_count": null,
   "id": "49bc36e7",
   "metadata": {},
   "outputs": [],
   "source": [
    "data_new.columns"
   ]
  },
  {
   "cell_type": "code",
   "execution_count": null,
   "id": "66ebd131",
   "metadata": {},
   "outputs": [],
   "source": [
    "dfx=pd.DataFrame(data=X_train_over, columns=['Age', 'Education_num', 'Hours_per_week', 'Workclass_ Local-gov',\n",
    "       'Workclass_ Private', 'Workclass_ Self-emp-inc',\n",
    "       'Workclass_ Self-emp-not-inc', 'Workclass_ State-gov',\n",
    "       'Workclass_ Without-pay', 'Marital_status_ Married-AF-spouse',\n",
    "       'Marital_status_ Married-civ-spouse',\n",
    "       'Marital_status_ Married-spouse-absent',\n",
    "       'Marital_status_ Never-married', 'Marital_status_ Separated',\n",
    "       'Marital_status_ Widowed', 'Occupation_ Armed-Forces',\n",
    "       'Occupation_ Craft-repair', 'Occupation_ Exec-managerial',\n",
    "       'Occupation_ Farming-fishing', 'Occupation_ Handlers-cleaners',\n",
    "       'Occupation_ Machine-op-inspct', 'Occupation_ Other-service',\n",
    "       'Occupation_ Priv-house-serv', 'Occupation_ Prof-specialty',\n",
    "       'Occupation_ Protective-serv', 'Occupation_ Sales',\n",
    "       'Occupation_ Tech-support', 'Occupation_ Transport-moving',\n",
    "       'Relationship_ Not-in-family', 'Relationship_ Other-relative',\n",
    "       'Relationship_ Own-child', 'Relationship_ Unmarried',\n",
    "       'Relationship_ Wife', 'Race_ Asian-Pac-Islander', 'Race_ Black',\n",
    "       'Race_ Other', 'Race_ White', 'Sex_ Male', 'Native_country_ Canada',\n",
    "       'Native_country_ China', 'Native_country_ Columbia',\n",
    "       'Native_country_ Cuba', 'Native_country_ Dominican-Republic',\n",
    "       'Native_country_ Ecuador', 'Native_country_ El-Salvador',\n",
    "       'Native_country_ England', 'Native_country_ France',\n",
    "       'Native_country_ Germany', 'Native_country_ Greece',\n",
    "       'Native_country_ Guatemala', 'Native_country_ Haiti',\n",
    "       'Native_country_ Holand-Netherlands', 'Native_country_ Honduras',\n",
    "       'Native_country_ Hong', 'Native_country_ Hungary',\n",
    "       'Native_country_ India', 'Native_country_ Iran','Native_country_ Ireland', 'Native_country_ Italy',\n",
    "       'Native_country_ Jamaica', 'Native_country_ Japan',\n",
    "       'Native_country_ Laos', 'Native_country_ Mexico',\n",
    "       'Native_country_ Nicaragua',\n",
    "       'Native_country_ Outlying-US(Guam-USVI-etc)', 'Native_country_ Peru',\n",
    "       'Native_country_ Philippines', 'Native_country_ Poland',\n",
    "       'Native_country_ Portugal', 'Native_country_ Puerto-Rico',\n",
    "       'Native_country_ Scotland', 'Native_country_ South',\n",
    "       'Native_country_ Taiwan', 'Native_country_ Thailand',\n",
    "       'Native_country_ Trinadad&Tobago', 'Native_country_ United-States',\n",
    "       'Native_country_ Vietnam', 'Native_country_ Yugoslavia', 'Education'])"
   ]
  },
  {
   "cell_type": "markdown",
   "id": "5afef30d",
   "metadata": {},
   "source": [
    "Here we can see over data is balance now."
   ]
  },
  {
   "cell_type": "markdown",
   "id": "d37e00ff",
   "metadata": {},
   "source": [
    "# VIF calculation"
   ]
  },
  {
   "cell_type": "code",
   "execution_count": null,
   "id": "49c81d9e",
   "metadata": {},
   "outputs": [],
   "source": [
    "import statsmodels.api as sm\n"
   ]
  },
  {
   "cell_type": "code",
   "execution_count": null,
   "id": "f677684a",
   "metadata": {},
   "outputs": [],
   "source": [
    "from scipy import stats\n",
    "from statsmodels.stats.outliers_influence import variance_inflation_factor\n",
    "def calc_vif(x):\n",
    "    vif=pd.DataFrame()\n",
    "    vif['variables']=x.columns\n",
    "    vif['VIF FACTOR']=[variance_inflation_factor(x.values,i) for i in range(x.shape[1])]\n",
    "    return(vif)\n"
   ]
  },
  {
   "cell_type": "code",
   "execution_count": null,
   "id": "a46cb57a",
   "metadata": {},
   "outputs": [],
   "source": [
    "calc_vif(dfx)"
   ]
  },
  {
   "cell_type": "code",
   "execution_count": null,
   "id": "3cf72d51",
   "metadata": {},
   "outputs": [],
   "source": [
    "dfx.drop(['Native_country_ United-States'],axis=1, inplace= True)\n"
   ]
  },
  {
   "cell_type": "code",
   "execution_count": null,
   "id": "c0843993",
   "metadata": {},
   "outputs": [],
   "source": [
    "calc_vif(dfx)"
   ]
  },
  {
   "cell_type": "code",
   "execution_count": null,
   "id": "c946526c",
   "metadata": {},
   "outputs": [],
   "source": [
    "dfx.drop(['Race_ White'],axis=1, inplace= True)\n",
    "calc_vif(dfx)"
   ]
  },
  {
   "cell_type": "code",
   "execution_count": null,
   "id": "68fafae9",
   "metadata": {},
   "outputs": [],
   "source": [
    "x=dfx\n",
    "y=Y_train_over"
   ]
  },
  {
   "cell_type": "markdown",
   "id": "cf63b1e8",
   "metadata": {},
   "source": [
    "# Chosing Best Random State"
   ]
  },
  {
   "cell_type": "code",
   "execution_count": null,
   "id": "bf95daa4",
   "metadata": {},
   "outputs": [],
   "source": [
    "lr= LogisticRegression()\n",
    "for i in range(0,1000):\n",
    "    x_train, x_test, y_train, y_test= train_test_split(x,y, random_state= i, test_size= 0.20)\n",
    "    lr.fit(x_train, y_train)\n",
    "    pred_train=lr.predict(x_train)\n",
    "    pred_test=lr.predict(x_test)\n",
    "    if round(accuracy_score(y_train,pred_train)*100,1)== round(accuracy_score(y_test,pred_test)*100,1):\n",
    "        print(\"At Random state \", i, \"The Model performing Well\")\n",
    "        print(\"At Random State\", i)\n",
    "        print(\"Training Accuracy score is-\",accuracy_score(y_train,pred_train)*100 )\n",
    "        print(\"Testing Accuracy Score is-\", accuracy_score(y_test,pred_test)*100)"
   ]
  },
  {
   "cell_type": "code",
   "execution_count": null,
   "id": "888a83ef",
   "metadata": {},
   "outputs": [],
   "source": [
    "x_train_b, x_test_b, y_train_b, y_test_b= train_test_split(x,y,random_state=195,test_size=0.20)\n",
    "lr.fit(x_train_b, y_train_b)\n",
    "lr_pred=lr.predict(x_test_b)\n",
    "print(accuracy_score(y_test_b,lr_pred))"
   ]
  },
  {
   "cell_type": "code",
   "execution_count": null,
   "id": "fd5a3982",
   "metadata": {},
   "outputs": [],
   "source": [
    "from sklearn.metrics import classification_report \n",
    "print(confusion_matrix(y_test_b, lr_pred))\n",
    "print(classification_report(y_test_b, lr_pred))"
   ]
  },
  {
   "cell_type": "markdown",
   "id": "f89a8353",
   "metadata": {},
   "source": [
    "# Cross validation of model"
   ]
  },
  {
   "cell_type": "code",
   "execution_count": null,
   "id": "01007c0d",
   "metadata": {},
   "outputs": [],
   "source": [
    "lr_pred=lr.predict(x_test_b)\n",
    "from sklearn.model_selection import cross_val_score\n",
    "lr_score=accuracy_score(y_test_b,lr_pred)\n",
    "for j in range(2,10):\n",
    "    lr_cv= cross_val_score(lr,x,y,cv=j, scoring='accuracy')\n",
    "    lr_cvscore=lr_cv.mean()\n",
    "    print(\"at cv:-\", j)\n",
    "    print(\"Cross Validation scre is:-\",lr_cvscore*100)\n",
    "    print(\"Accuracy Score:-\", lr_score*100)\n",
    "    print(\"\\n\")"
   ]
  },
  {
   "cell_type": "markdown",
   "id": "632b5810",
   "metadata": {},
   "source": [
    "# SVC"
   ]
  },
  {
   "cell_type": "code",
   "execution_count": null,
   "id": "5620e443",
   "metadata": {},
   "outputs": [],
   "source": [
    "svc=SVC()\n",
    "svc.fit(x_train_b, y_train_b)\n",
    "svc.score(x_train_b, y_train_b)\n",
    "svc_pred=svc.predict(x_test_b)\n",
    "\n",
    "svc_d=accuracy_score(y_test_b, svc_pred)\n",
    "print('Accuracy_core:', svc_d*100)\n",
    "\n",
    "svc_cv= cross_val_score(svc,x,y,cv=9, scoring='accuracy')\n",
    "svc_score=svc_cv.mean()\n",
    "print('Cross val Score :', svc_score*100)"
   ]
  },
  {
   "cell_type": "code",
   "execution_count": null,
   "id": "7376e84a",
   "metadata": {},
   "outputs": [],
   "source": [
    "print(confusion_matrix(y_test_b, svc_pred))\n",
    "print(classification_report(y_test_b, svc_pred))"
   ]
  },
  {
   "cell_type": "markdown",
   "id": "16a217e6",
   "metadata": {},
   "source": [
    "Both score having good Accuracy , but the diffrence if slightly high as compare to Logistic model.\n",
    "Lets try another model."
   ]
  },
  {
   "cell_type": "markdown",
   "id": "716702c3",
   "metadata": {},
   "source": [
    "# Ensemble Techniques\n",
    "\n",
    "# KNeighborsClassifier"
   ]
  },
  {
   "cell_type": "code",
   "execution_count": null,
   "id": "8e9b420d",
   "metadata": {},
   "outputs": [],
   "source": [
    "kn=KNeighborsClassifier()\n",
    "kn.fit(x_train_b, y_train_b)\n",
    "kn.score(x_train_b,y_train_b)\n",
    "kn_pred=kn.predict(x_test_b)\n",
    "\n",
    "kn_score= accuracy_score(y_test_b, kn_pred)\n",
    "print('accuracy_score:', kn_score*100)\n",
    "\n",
    "kncvscore=cross_val_score(kn,x,y, cv=9, scoring='accuracy')\n",
    "kncv_score=kncvscore.mean()\n",
    "print('Cross val Score :',kncv_score*100 )"
   ]
  },
  {
   "cell_type": "code",
   "execution_count": null,
   "id": "bc8982ff",
   "metadata": {},
   "outputs": [],
   "source": [
    "print(confusion_matrix(y_test_b, kn_pred))\n",
    "print(classification_report(y_test_b, kn_pred))"
   ]
  },
  {
   "cell_type": "markdown",
   "id": "110d8d29",
   "metadata": {},
   "source": [
    "Both score having good Accuracy and diffrence in the also very less. we can consider this model as best model, but lets try more.\n",
    "\n",
    "# DecisionTreeClassifier"
   ]
  },
  {
   "cell_type": "code",
   "execution_count": null,
   "id": "433a6c83",
   "metadata": {},
   "outputs": [],
   "source": [
    "dt=DecisionTreeClassifier()\n",
    "dt.fit(x_train_b,y_train_b)\n",
    "dt.score(x_train_b, y_train_b)\n",
    "dt_pred=dt.predict(x_test_b)\n",
    "\n",
    "dt_score= accuracy_score(y_test_b, dt_pred)\n",
    "print(\"accuracy_score\", dt_score*100)\n",
    "\n",
    "dt_cv=cross_val_score(dt,x,y,cv=9, scoring='accuracy')\n",
    "dtcv_score= dt_cv.mean()\n",
    "print(\"Cross val score is:\",dtcv_score*100 )"
   ]
  },
  {
   "cell_type": "code",
   "execution_count": null,
   "id": "6e52777a",
   "metadata": {},
   "outputs": [],
   "source": [
    "print(confusion_matrix(y_test_b, dt_pred))\n",
    "print(classification_report(y_test_b, dt_pred))"
   ]
  },
  {
   "cell_type": "markdown",
   "id": "047df1e4",
   "metadata": {},
   "source": [
    "Both score having good Accuracy, But the diffrence is also very low, we can say negligible.\n",
    "\n",
    "DecisionTreeClassifier is better now from other model.\n",
    "\n",
    "# RandomForestClassifier"
   ]
  },
  {
   "cell_type": "code",
   "execution_count": null,
   "id": "3b79ca9a",
   "metadata": {},
   "outputs": [],
   "source": [
    "rf=RandomForestClassifier()\n",
    "rf.fit(x_train_b, y_train_b)\n",
    "rf.score(x_train_b,y_train_b)\n",
    "rf_pred=rf.predict(x_test_b)\n",
    "\n",
    "rf_score= accuracy_score(y_test_b, rf_pred)\n",
    "print('accuracy_score: ', rf_score*100)\n",
    "\n",
    "rfcvscore=cross_val_score(rf,x,y, cv=9, scoring='accuracy')\n",
    "rfcv_score=rfcvscore.mean()\n",
    "print('Cross val Score :',rfcv_score*100 )"
   ]
  },
  {
   "cell_type": "code",
   "execution_count": null,
   "id": "4858bd93",
   "metadata": {},
   "outputs": [],
   "source": [
    "print(confusion_matrix(y_test_b, rf_pred))\n",
    "print(classification_report(y_test_b, rf_pred))"
   ]
  },
  {
   "cell_type": "markdown",
   "id": "dcb27f30",
   "metadata": {},
   "source": [
    "Both score having very good Accuracy,and the diffrence is slightly high as compares to DecisionTreeClassifier\n",
    "DecisionTreeClassifier is still best."
   ]
  },
  {
   "cell_type": "markdown",
   "id": "00d11c23",
   "metadata": {},
   "source": [
    "# AdaBoostClassifier"
   ]
  },
  {
   "cell_type": "code",
   "execution_count": null,
   "id": "35ef81e3",
   "metadata": {},
   "outputs": [],
   "source": [
    "ad=AdaBoostClassifier()\n",
    "ad.fit(x_train_b, y_train_b)\n",
    "ad.score(x_train_b,y_train_b)\n",
    "ad_pred=ad.predict(x_test_b)\n",
    "\n",
    "ad_score= accuracy_score(y_test_b, ad_pred)\n",
    "print('accuracy_score: ', ad_score*100)\n",
    "\n",
    "adcvscore=cross_val_score(ad,x,y, cv=7, scoring='accuracy')\n",
    "adcv_score=adcvscore.mean()\n",
    "print('Cross val Score :',adcv_score*100 )"
   ]
  },
  {
   "cell_type": "code",
   "execution_count": null,
   "id": "08396f5e",
   "metadata": {},
   "outputs": [],
   "source": [
    "print(confusion_matrix(y_test_b, ad_pred))\n",
    "print(classification_report(y_test_b, ad_pred))\n"
   ]
  },
  {
   "cell_type": "markdown",
   "id": "333ec927",
   "metadata": {},
   "source": [
    "Both score having good Accuracy,and the diffrence is slightly High as compares to DecisionTreeClassifier.\n",
    "DecisionTreeClassifier is still best."
   ]
  },
  {
   "cell_type": "markdown",
   "id": "0dfc0f3e",
   "metadata": {},
   "source": [
    "# GaussianNB"
   ]
  },
  {
   "cell_type": "code",
   "execution_count": null,
   "id": "9dd2dd53",
   "metadata": {},
   "outputs": [],
   "source": [
    "from sklearn.naive_bayes import GaussianNB\n",
    "gb=GaussianNB()\n",
    "gb.fit(x_train_b, y_train_b)\n",
    "gb.score(x_train_b, y_train_b)\n",
    "gb_pred=gb.predict(x_test_b)\n",
    "\n",
    "gb_score=accuracy_score(y_test_b, gb_pred)\n",
    "print(\"Accuracy Score is:\", gb_score*100)\n",
    "\n",
    "gb_cv= cross_val_score(gb, x,y,cv=7, scoring='accuracy')\n",
    "gb_cvscore=gb_cv.mean()\n",
    "print(\"Cross Val Score is :\", gb_cvscore*100)"
   ]
  },
  {
   "cell_type": "code",
   "execution_count": null,
   "id": "20536a8b",
   "metadata": {},
   "outputs": [],
   "source": [
    "print(confusion_matrix(y_test_b, gb_pred))\n",
    "print(classification_report(y_test_b, gb_pred))"
   ]
  },
  {
   "cell_type": "markdown",
   "id": "0484a72a",
   "metadata": {},
   "source": [
    "# Hyperparameter Tuning of the model."
   ]
  },
  {
   "cell_type": "code",
   "execution_count": null,
   "id": "6100cd34",
   "metadata": {},
   "outputs": [],
   "source": [
    "from sklearn.model_selection import GridSearchCV\n",
    "from sklearn.tree import DecisionTreeClassifier\n",
    "parameters= {'criterion':['gini', 'entropy'],'splitter':['best','random'],'max_features':['auto','sqrt','log2'], 'min_samples_leaf':list(range(0,5))}\n",
    "dt=DecisionTreeClassifier()\n",
    "dtclf=GridSearchCV(dt,param_grid=parameters, n_jobs=-1)\n",
    "dtclf.fit (x_train_b, y_train_b)\n",
    "print(dtclf.best_params_) "
   ]
  },
  {
   "cell_type": "code",
   "execution_count": null,
   "id": "be1aade3",
   "metadata": {},
   "outputs": [],
   "source": [
    "dt=DecisionTreeClassifier(criterion='gini', max_features='log2', splitter= 'best', min_samples_leaf=1)\n",
    "dt.fit(x_train_b,y_train_b)\n",
    "dt.score(x_train_b, y_train_b)\n",
    "dt_pred=dt.predict(x_test_b)\n",
    "\n",
    "dt_score= accuracy_score(y_test_b, dt_pred)\n",
    "print(\"accuracy_score\", dt_score*100)\n",
    "\n",
    "dt_cv=cross_val_score(dt,x,y,cv=9, scoring='accuracy')\n",
    "dtcv_score= dt_cv.mean()\n",
    "print(\"Cross val score is:\",dtcv_score*100 )"
   ]
  },
  {
   "cell_type": "code",
   "execution_count": null,
   "id": "de41c91f",
   "metadata": {},
   "outputs": [],
   "source": [
    "from sklearn.ensemble import RandomForestClassifier\n",
    "\n",
    "parameters={'n_estimators' : [50,100,125,150,175,200],'criterion':['gini', 'entropy'],'max_features':['auto','sqrt', 'log2'], 'random_state':[10,20,30,40,50]}\n",
    "rf=RandomForestClassifier()\n",
    "rfclf=GridSearchCV(rf, param_grid=parameters, n_jobs=-1)\n",
    "rfclf.fit(x_train_b, y_train_b)\n",
    "print(rfclf.best_params_)"
   ]
  },
  {
   "cell_type": "code",
   "execution_count": null,
   "id": "0eedc8f3",
   "metadata": {},
   "outputs": [],
   "source": [
    "rf=RandomForestClassifier(criterion='entropy', max_features='auto', n_estimators=175, random_state=50)\n",
    "rf.fit(x_train_b, y_train_b)\n",
    "rf.score(x_train_b,y_train_b)\n",
    "rf_pred=rf.predict(x_test_b)\n",
    "\n",
    "rf_score= accuracy_score(y_test_b, rf_pred)\n",
    "print('accuracy_score: ', rf_score*100)\n",
    "\n",
    "rfcvscore=cross_val_score(rf,x,y, cv=9, scoring='accuracy')\n",
    "rfcv_score=rfcvscore.mean()\n",
    "print('Cross val Score :',rfcv_score*100 )"
   ]
  },
  {
   "cell_type": "code",
   "execution_count": null,
   "id": "2ea0d758",
   "metadata": {},
   "outputs": [],
   "source": [
    "from sklearn.ensemble import AdaBoostClassifier\n",
    "parameters={'n_estimators':[20,30,40,50,100],'learning_rate':[0.0001,0.001,0.01],'algorithm':['SAMME', 'SAMME.R'],'random_state':[10,20,30,40,50]}\n",
    "ad=AdaBoostClassifier()\n",
    "adclf=GridSearchCV(ad, param_grid=parameters, n_jobs=-1)\n",
    "adclf.fit(x_train_b, y_train_b)\n",
    "print(adclf.best_params_)"
   ]
  },
  {
   "cell_type": "code",
   "execution_count": null,
   "id": "89c322b6",
   "metadata": {},
   "outputs": [],
   "source": [
    "ad=AdaBoostClassifier(algorithm='SAMME.R', learning_rate= 0.01, n_estimators= 100, random_state=10)\n",
    "ad.fit(x_train_b, y_train_b)\n",
    "ad.score(x_train_b,y_train_b)\n",
    "ad_pred=ad.predict(x_test_b)\n",
    "\n",
    "ad_score= accuracy_score(y_test_b, ad_pred)\n",
    "print('accuracy_score: ', ad_score*100)\n",
    "\n",
    "adcvscore=cross_val_score(ad,x,y, cv=9, scoring='accuracy')\n",
    "adcv_score=adcvscore.mean()\n",
    "print('Cross val Score :',adcv_score*100 )"
   ]
  },
  {
   "cell_type": "markdown",
   "id": "ff7c2312",
   "metadata": {},
   "source": [
    "# AUC ROC Curve:"
   ]
  },
  {
   "cell_type": "code",
   "execution_count": null,
   "id": "57be60f8",
   "metadata": {},
   "outputs": [],
   "source": [
    "from sklearn.metrics import roc_curve, auc\n",
    "fpr, tpr, thresholds= roc_curve(dt_pred, y_test_b)\n",
    "roc_auc= auc(fpr, tpr)\n",
    "\n",
    "plt.figure()\n",
    "plt.plot(fpr,tpr, color='darkorange', lw=10,label='ROC curve (area= %0.2f)' %roc_auc)\n",
    "plt.plot([0,1],[0,1],color ='navy', lw=10, linestyle= '--')\n",
    "plt.xlim([0.0, 1.0])\n",
    "plt.xlim([0.0, 1.05])\n",
    "plt.xlabel('False Positive Rate')\n",
    "plt.ylabel('True Positive Rate')\n",
    "plt.title('Receiver operating characteristic')\n",
    "plt.legend(loc=\"lower right\")\n",
    "plt.show()"
   ]
  },
  {
   "cell_type": "markdown",
   "id": "ec1d27df",
   "metadata": {},
   "source": [
    "# Saving Best Model"
   ]
  },
  {
   "cell_type": "code",
   "execution_count": null,
   "id": "8429bbc6",
   "metadata": {},
   "outputs": [],
   "source": [
    "import pickle\n",
    "filename=\"Evaluation_Project- Census_Income_Project.pkl \"\n",
    "pickle.dump(dt, open(filename,'wb'))\n"
   ]
  },
  {
   "cell_type": "code",
   "execution_count": null,
   "id": "a8a2bbe4",
   "metadata": {},
   "outputs": [],
   "source": [
    "import numpy as np\n",
    "a=np.array(y_test_b)\n",
    "predicted= np.array(dt.predict(x_test_b))\n",
    "df_com= pd.DataFrame({'original':a, 'predicted':predicted}, index= range(len(a)))\n"
   ]
  },
  {
   "cell_type": "code",
   "execution_count": null,
   "id": "3780ebc5",
   "metadata": {},
   "outputs": [],
   "source": []
  }
 ],
 "metadata": {
  "kernelspec": {
   "display_name": "Python 3 (ipykernel)",
   "language": "python",
   "name": "python3"
  },
  "language_info": {
   "codemirror_mode": {
    "name": "ipython",
    "version": 3
   },
   "file_extension": ".py",
   "mimetype": "text/x-python",
   "name": "python",
   "nbconvert_exporter": "python",
   "pygments_lexer": "ipython3",
   "version": "3.9.15"
  }
 },
 "nbformat": 4,
 "nbformat_minor": 5
}

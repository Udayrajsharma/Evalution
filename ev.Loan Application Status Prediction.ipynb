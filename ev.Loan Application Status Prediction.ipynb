{
 "cells": [
  {
   "cell_type": "markdown",
   "id": "11a6fc5f",
   "metadata": {},
   "source": [
    "# Aim: Loan Application Status Prediction using available dataset."
   ]
  },
  {
   "cell_type": "markdown",
   "id": "b1cd55ef",
   "metadata": {},
   "source": [
    "# Problem Statement:"
   ]
  },
  {
   "cell_type": "markdown",
   "id": "c01eb7a4",
   "metadata": {},
   "source": [
    "This dataset includes details of applicants who have applied for loan. The dataset includes details like credit history, loan amount, their income, dependents etc.\n",
    "\n",
    "Here our aim is to automate the loan eligibility process on the baisis of the data provided by the customer while filling up the application. These details are Gender, Marital Status, Education, Number of Dependents, Income, Loan Amount, Credit History and others.\n"
   ]
  },
  {
   "cell_type": "markdown",
   "id": "a0693a98",
   "metadata": {},
   "source": [
    "# Dataset Description:\n",
    "\n",
    "Loan_ID :- Unique Loan ID\n",
    "Gender :- Male/ Female\n",
    "Married :- Applicant married (Y/N)\n",
    "Dependents :- Number of dependents\n",
    "Education :- Applicant Education (Graduate/ Under Graduate)\n",
    "Self_Employed :- Self employed (Y/N)\n",
    "ApplicantIncome :- Applicant income\n",
    "CoapplicantIncome :- Coapplicant income\n",
    "LoanAmount :- Loan amount in thousands\n",
    "Loan_Amount_Term :- Term of loan in months\n",
    "Credit_History :- credit history meets guidelines\n",
    "Property_Area :- Urban/ Semi Urban/ Rural\n",
    "Loan_Status :- Loan approved (Y/N)"
   ]
  },
  {
   "cell_type": "markdown",
   "id": "4780ac8e",
   "metadata": {},
   "source": [
    "# Dependent Variable (Target Variable):\n"
   ]
  },
  {
   "cell_type": "markdown",
   "id": "89b10500",
   "metadata": {},
   "source": [
    "Loan_Status :- Loan approved (Y/N)"
   ]
  },
  {
   "cell_type": "markdown",
   "id": "f6b055d9",
   "metadata": {},
   "source": [
    "Import all required library"
   ]
  },
  {
   "cell_type": "code",
   "execution_count": 6,
   "id": "9c1a138c-fcfc-4cd8-8565-eef518cdf3ea",
   "metadata": {},
   "outputs": [],
   "source": [
    "import pandas as pd\n",
    "import numpy as np\n",
    "import seaborn as sns\n",
    "import matplotlib.pyplot as plt\n",
    "import os\n",
    "import joblib\n",
    "import scipy as stats\n",
    "from scipy.stats import zscore\n",
    "from sklearn.preprocessing import PowerTransformer\n",
    "from sklearn.preprocessing import LabelEncoder\n",
    "from sklearn.preprocessing import StandardScaler\n",
    "from statsmodels.stats.outliers_influence import variance_inflation_factor\n",
    "from sklearn.model_selection import train_test_split\n",
    "from sklearn.metrics import mean_absolute_error\n",
    "from sklearn.metrics import mean_squared_error\n",
    "from sklearn.metrics import r2_score\n",
    "from sklearn.linear_model import LinearRegression, Lasso,Ridge\n",
    "from sklearn.ensemble import RandomForestRegressor\n",
    "from sklearn.tree import DecisionTreeRegressor\n",
    "from sklearn.svm import SVR\n",
    "from sklearn.neighbors import KNeighborsRegressor as KNN\n",
    "from sklearn.ensemble import GradientBoostingRegressor\n",
    "from sklearn.linear_model import SGDRegressor\n",
    "from sklearn.metrics import classification_report\n",
    "from sklearn.model_selection import cross_val_score\n",
    "from sklearn import metrics\n",
    "from sklearn.metrics import accuracy_score,classification_report,confusion_matrix,roc_auc_score,roc_curve\n",
    "from sklearn.linear_model import LogisticRegression\n",
    "from sklearn.neighbors import KNeighborsClassifier\n",
    "from sklearn.svm import SVC\n",
    "from sklearn.tree import DecisionTreeClassifier\n",
    "from sklearn.ensemble import AdaBoostClassifier, GradientBoostingClassifier\n",
    "from sklearn.model_selection import GridSearchCV\n",
    "%matplotlib inline\n",
    "import warnings\n",
    "warnings.filterwarnings('ignore')"
   ]
  },
  {
   "cell_type": "code",
   "execution_count": 9,
   "id": "dddc85f8-64d1-45fa-811f-6aaf60d7bfc6",
   "metadata": {},
   "outputs": [
    {
     "data": {
      "text/html": [
       "<div>\n",
       "<style scoped>\n",
       "    .dataframe tbody tr th:only-of-type {\n",
       "        vertical-align: middle;\n",
       "    }\n",
       "\n",
       "    .dataframe tbody tr th {\n",
       "        vertical-align: top;\n",
       "    }\n",
       "\n",
       "    .dataframe thead th {\n",
       "        text-align: right;\n",
       "    }\n",
       "</style>\n",
       "<table border=\"1\" class=\"dataframe\">\n",
       "  <thead>\n",
       "    <tr style=\"text-align: right;\">\n",
       "      <th></th>\n",
       "      <th>Loan_ID</th>\n",
       "      <th>Gender</th>\n",
       "      <th>Married</th>\n",
       "      <th>Dependents</th>\n",
       "      <th>Education</th>\n",
       "      <th>Self_Employed</th>\n",
       "      <th>ApplicantIncome</th>\n",
       "      <th>CoapplicantIncome</th>\n",
       "      <th>LoanAmount</th>\n",
       "      <th>Loan_Amount_Term</th>\n",
       "      <th>Credit_History</th>\n",
       "      <th>Property_Area</th>\n",
       "      <th>Loan_Status</th>\n",
       "    </tr>\n",
       "  </thead>\n",
       "  <tbody>\n",
       "    <tr>\n",
       "      <th>0</th>\n",
       "      <td>LP001002</td>\n",
       "      <td>Male</td>\n",
       "      <td>No</td>\n",
       "      <td>0</td>\n",
       "      <td>Graduate</td>\n",
       "      <td>No</td>\n",
       "      <td>5849</td>\n",
       "      <td>0.0</td>\n",
       "      <td>NaN</td>\n",
       "      <td>360.0</td>\n",
       "      <td>1.0</td>\n",
       "      <td>Urban</td>\n",
       "      <td>Y</td>\n",
       "    </tr>\n",
       "    <tr>\n",
       "      <th>1</th>\n",
       "      <td>LP001003</td>\n",
       "      <td>Male</td>\n",
       "      <td>Yes</td>\n",
       "      <td>1</td>\n",
       "      <td>Graduate</td>\n",
       "      <td>No</td>\n",
       "      <td>4583</td>\n",
       "      <td>1508.0</td>\n",
       "      <td>128.0</td>\n",
       "      <td>360.0</td>\n",
       "      <td>1.0</td>\n",
       "      <td>Rural</td>\n",
       "      <td>N</td>\n",
       "    </tr>\n",
       "    <tr>\n",
       "      <th>2</th>\n",
       "      <td>LP001005</td>\n",
       "      <td>Male</td>\n",
       "      <td>Yes</td>\n",
       "      <td>0</td>\n",
       "      <td>Graduate</td>\n",
       "      <td>Yes</td>\n",
       "      <td>3000</td>\n",
       "      <td>0.0</td>\n",
       "      <td>66.0</td>\n",
       "      <td>360.0</td>\n",
       "      <td>1.0</td>\n",
       "      <td>Urban</td>\n",
       "      <td>Y</td>\n",
       "    </tr>\n",
       "    <tr>\n",
       "      <th>3</th>\n",
       "      <td>LP001006</td>\n",
       "      <td>Male</td>\n",
       "      <td>Yes</td>\n",
       "      <td>0</td>\n",
       "      <td>Not Graduate</td>\n",
       "      <td>No</td>\n",
       "      <td>2583</td>\n",
       "      <td>2358.0</td>\n",
       "      <td>120.0</td>\n",
       "      <td>360.0</td>\n",
       "      <td>1.0</td>\n",
       "      <td>Urban</td>\n",
       "      <td>Y</td>\n",
       "    </tr>\n",
       "    <tr>\n",
       "      <th>4</th>\n",
       "      <td>LP001008</td>\n",
       "      <td>Male</td>\n",
       "      <td>No</td>\n",
       "      <td>0</td>\n",
       "      <td>Graduate</td>\n",
       "      <td>No</td>\n",
       "      <td>6000</td>\n",
       "      <td>0.0</td>\n",
       "      <td>141.0</td>\n",
       "      <td>360.0</td>\n",
       "      <td>1.0</td>\n",
       "      <td>Urban</td>\n",
       "      <td>Y</td>\n",
       "    </tr>\n",
       "  </tbody>\n",
       "</table>\n",
       "</div>"
      ],
      "text/plain": [
       "    Loan_ID Gender Married Dependents     Education Self_Employed  \\\n",
       "0  LP001002   Male      No          0      Graduate            No   \n",
       "1  LP001003   Male     Yes          1      Graduate            No   \n",
       "2  LP001005   Male     Yes          0      Graduate           Yes   \n",
       "3  LP001006   Male     Yes          0  Not Graduate            No   \n",
       "4  LP001008   Male      No          0      Graduate            No   \n",
       "\n",
       "   ApplicantIncome  CoapplicantIncome  LoanAmount  Loan_Amount_Term  \\\n",
       "0             5849                0.0         NaN             360.0   \n",
       "1             4583             1508.0       128.0             360.0   \n",
       "2             3000                0.0        66.0             360.0   \n",
       "3             2583             2358.0       120.0             360.0   \n",
       "4             6000                0.0       141.0             360.0   \n",
       "\n",
       "   Credit_History Property_Area Loan_Status  \n",
       "0             1.0         Urban           Y  \n",
       "1             1.0         Rural           N  \n",
       "2             1.0         Urban           Y  \n",
       "3             1.0         Urban           Y  \n",
       "4             1.0         Urban           Y  "
      ]
     },
     "execution_count": 9,
     "metadata": {},
     "output_type": "execute_result"
    }
   ],
   "source": [
    "data = pd.read_csv('https://github.com/dsrscientist/DSData/raw/master/loan_prediction.csv')\n",
    "data.head() "
   ]
  },
  {
   "cell_type": "code",
   "execution_count": 10,
   "id": "f5b3e4ef-1344-4e54-808b-08390c7dd04e",
   "metadata": {},
   "outputs": [
    {
     "data": {
      "text/html": [
       "<div>\n",
       "<style scoped>\n",
       "    .dataframe tbody tr th:only-of-type {\n",
       "        vertical-align: middle;\n",
       "    }\n",
       "\n",
       "    .dataframe tbody tr th {\n",
       "        vertical-align: top;\n",
       "    }\n",
       "\n",
       "    .dataframe thead th {\n",
       "        text-align: right;\n",
       "    }\n",
       "</style>\n",
       "<table border=\"1\" class=\"dataframe\">\n",
       "  <thead>\n",
       "    <tr style=\"text-align: right;\">\n",
       "      <th></th>\n",
       "      <th>Loan_ID</th>\n",
       "      <th>Gender</th>\n",
       "      <th>Married</th>\n",
       "      <th>Dependents</th>\n",
       "      <th>Education</th>\n",
       "      <th>Self_Employed</th>\n",
       "      <th>ApplicantIncome</th>\n",
       "      <th>CoapplicantIncome</th>\n",
       "      <th>LoanAmount</th>\n",
       "      <th>Loan_Amount_Term</th>\n",
       "      <th>Credit_History</th>\n",
       "      <th>Property_Area</th>\n",
       "      <th>Loan_Status</th>\n",
       "    </tr>\n",
       "  </thead>\n",
       "  <tbody>\n",
       "    <tr>\n",
       "      <th>67</th>\n",
       "      <td>LP001233</td>\n",
       "      <td>Male</td>\n",
       "      <td>Yes</td>\n",
       "      <td>1</td>\n",
       "      <td>Graduate</td>\n",
       "      <td>No</td>\n",
       "      <td>10750</td>\n",
       "      <td>0.0</td>\n",
       "      <td>312.0</td>\n",
       "      <td>360.0</td>\n",
       "      <td>1.0</td>\n",
       "      <td>Urban</td>\n",
       "      <td>Y</td>\n",
       "    </tr>\n",
       "    <tr>\n",
       "      <th>527</th>\n",
       "      <td>LP002706</td>\n",
       "      <td>Male</td>\n",
       "      <td>Yes</td>\n",
       "      <td>1</td>\n",
       "      <td>Not Graduate</td>\n",
       "      <td>No</td>\n",
       "      <td>5285</td>\n",
       "      <td>1430.0</td>\n",
       "      <td>161.0</td>\n",
       "      <td>360.0</td>\n",
       "      <td>0.0</td>\n",
       "      <td>Semiurban</td>\n",
       "      <td>Y</td>\n",
       "    </tr>\n",
       "    <tr>\n",
       "      <th>377</th>\n",
       "      <td>LP002223</td>\n",
       "      <td>Male</td>\n",
       "      <td>Yes</td>\n",
       "      <td>0</td>\n",
       "      <td>Graduate</td>\n",
       "      <td>No</td>\n",
       "      <td>4310</td>\n",
       "      <td>0.0</td>\n",
       "      <td>130.0</td>\n",
       "      <td>360.0</td>\n",
       "      <td>NaN</td>\n",
       "      <td>Semiurban</td>\n",
       "      <td>Y</td>\n",
       "    </tr>\n",
       "    <tr>\n",
       "      <th>273</th>\n",
       "      <td>LP001894</td>\n",
       "      <td>Male</td>\n",
       "      <td>Yes</td>\n",
       "      <td>0</td>\n",
       "      <td>Graduate</td>\n",
       "      <td>No</td>\n",
       "      <td>2620</td>\n",
       "      <td>2223.0</td>\n",
       "      <td>150.0</td>\n",
       "      <td>360.0</td>\n",
       "      <td>1.0</td>\n",
       "      <td>Semiurban</td>\n",
       "      <td>Y</td>\n",
       "    </tr>\n",
       "    <tr>\n",
       "      <th>484</th>\n",
       "      <td>LP002543</td>\n",
       "      <td>Male</td>\n",
       "      <td>Yes</td>\n",
       "      <td>2</td>\n",
       "      <td>Graduate</td>\n",
       "      <td>No</td>\n",
       "      <td>8333</td>\n",
       "      <td>0.0</td>\n",
       "      <td>246.0</td>\n",
       "      <td>360.0</td>\n",
       "      <td>1.0</td>\n",
       "      <td>Semiurban</td>\n",
       "      <td>Y</td>\n",
       "    </tr>\n",
       "    <tr>\n",
       "      <th>88</th>\n",
       "      <td>LP001289</td>\n",
       "      <td>Male</td>\n",
       "      <td>No</td>\n",
       "      <td>0</td>\n",
       "      <td>Graduate</td>\n",
       "      <td>No</td>\n",
       "      <td>8566</td>\n",
       "      <td>0.0</td>\n",
       "      <td>210.0</td>\n",
       "      <td>360.0</td>\n",
       "      <td>1.0</td>\n",
       "      <td>Urban</td>\n",
       "      <td>Y</td>\n",
       "    </tr>\n",
       "    <tr>\n",
       "      <th>400</th>\n",
       "      <td>LP002288</td>\n",
       "      <td>Male</td>\n",
       "      <td>Yes</td>\n",
       "      <td>2</td>\n",
       "      <td>Not Graduate</td>\n",
       "      <td>No</td>\n",
       "      <td>2889</td>\n",
       "      <td>0.0</td>\n",
       "      <td>45.0</td>\n",
       "      <td>180.0</td>\n",
       "      <td>0.0</td>\n",
       "      <td>Urban</td>\n",
       "      <td>N</td>\n",
       "    </tr>\n",
       "    <tr>\n",
       "      <th>546</th>\n",
       "      <td>LP002768</td>\n",
       "      <td>Male</td>\n",
       "      <td>No</td>\n",
       "      <td>0</td>\n",
       "      <td>Not Graduate</td>\n",
       "      <td>No</td>\n",
       "      <td>3358</td>\n",
       "      <td>0.0</td>\n",
       "      <td>80.0</td>\n",
       "      <td>36.0</td>\n",
       "      <td>1.0</td>\n",
       "      <td>Semiurban</td>\n",
       "      <td>N</td>\n",
       "    </tr>\n",
       "    <tr>\n",
       "      <th>593</th>\n",
       "      <td>LP002936</td>\n",
       "      <td>Male</td>\n",
       "      <td>Yes</td>\n",
       "      <td>0</td>\n",
       "      <td>Graduate</td>\n",
       "      <td>No</td>\n",
       "      <td>3859</td>\n",
       "      <td>3300.0</td>\n",
       "      <td>142.0</td>\n",
       "      <td>180.0</td>\n",
       "      <td>1.0</td>\n",
       "      <td>Rural</td>\n",
       "      <td>Y</td>\n",
       "    </tr>\n",
       "    <tr>\n",
       "      <th>507</th>\n",
       "      <td>LP002625</td>\n",
       "      <td>NaN</td>\n",
       "      <td>No</td>\n",
       "      <td>0</td>\n",
       "      <td>Graduate</td>\n",
       "      <td>No</td>\n",
       "      <td>3583</td>\n",
       "      <td>0.0</td>\n",
       "      <td>96.0</td>\n",
       "      <td>360.0</td>\n",
       "      <td>1.0</td>\n",
       "      <td>Urban</td>\n",
       "      <td>N</td>\n",
       "    </tr>\n",
       "  </tbody>\n",
       "</table>\n",
       "</div>"
      ],
      "text/plain": [
       "      Loan_ID Gender Married Dependents     Education Self_Employed  \\\n",
       "67   LP001233   Male     Yes          1      Graduate            No   \n",
       "527  LP002706   Male     Yes          1  Not Graduate            No   \n",
       "377  LP002223   Male     Yes          0      Graduate            No   \n",
       "273  LP001894   Male     Yes          0      Graduate            No   \n",
       "484  LP002543   Male     Yes          2      Graduate            No   \n",
       "88   LP001289   Male      No          0      Graduate            No   \n",
       "400  LP002288   Male     Yes          2  Not Graduate            No   \n",
       "546  LP002768   Male      No          0  Not Graduate            No   \n",
       "593  LP002936   Male     Yes          0      Graduate            No   \n",
       "507  LP002625    NaN      No          0      Graduate            No   \n",
       "\n",
       "     ApplicantIncome  CoapplicantIncome  LoanAmount  Loan_Amount_Term  \\\n",
       "67             10750                0.0       312.0             360.0   \n",
       "527             5285             1430.0       161.0             360.0   \n",
       "377             4310                0.0       130.0             360.0   \n",
       "273             2620             2223.0       150.0             360.0   \n",
       "484             8333                0.0       246.0             360.0   \n",
       "88              8566                0.0       210.0             360.0   \n",
       "400             2889                0.0        45.0             180.0   \n",
       "546             3358                0.0        80.0              36.0   \n",
       "593             3859             3300.0       142.0             180.0   \n",
       "507             3583                0.0        96.0             360.0   \n",
       "\n",
       "     Credit_History Property_Area Loan_Status  \n",
       "67              1.0         Urban           Y  \n",
       "527             0.0     Semiurban           Y  \n",
       "377             NaN     Semiurban           Y  \n",
       "273             1.0     Semiurban           Y  \n",
       "484             1.0     Semiurban           Y  \n",
       "88              1.0         Urban           Y  \n",
       "400             0.0         Urban           N  \n",
       "546             1.0     Semiurban           N  \n",
       "593             1.0         Rural           Y  \n",
       "507             1.0         Urban           N  "
      ]
     },
     "execution_count": 10,
     "metadata": {},
     "output_type": "execute_result"
    }
   ],
   "source": [
    "data.sample(10)"
   ]
  },
  {
   "cell_type": "markdown",
   "id": "50715a03",
   "metadata": {},
   "source": [
    "# Data Analysis"
   ]
  },
  {
   "cell_type": "code",
   "execution_count": 11,
   "id": "7b0376bd",
   "metadata": {},
   "outputs": [
    {
     "data": {
      "text/plain": [
       "(614, 13)"
      ]
     },
     "execution_count": 11,
     "metadata": {},
     "output_type": "execute_result"
    }
   ],
   "source": [
    "data.shape"
   ]
  },
  {
   "cell_type": "code",
   "execution_count": 12,
   "id": "e3ab2421",
   "metadata": {},
   "outputs": [
    {
     "data": {
      "text/plain": [
       "Index(['Loan_ID', 'Gender', 'Married', 'Dependents', 'Education',\n",
       "       'Self_Employed', 'ApplicantIncome', 'CoapplicantIncome', 'LoanAmount',\n",
       "       'Loan_Amount_Term', 'Credit_History', 'Property_Area', 'Loan_Status'],\n",
       "      dtype='object')"
      ]
     },
     "execution_count": 12,
     "metadata": {},
     "output_type": "execute_result"
    }
   ],
   "source": [
    "data.columns"
   ]
  },
  {
   "cell_type": "code",
   "execution_count": 13,
   "id": "05593034",
   "metadata": {},
   "outputs": [
    {
     "name": "stdout",
     "output_type": "stream",
     "text": [
      "<class 'pandas.core.frame.DataFrame'>\n",
      "RangeIndex: 614 entries, 0 to 613\n",
      "Data columns (total 13 columns):\n",
      " #   Column             Non-Null Count  Dtype  \n",
      "---  ------             --------------  -----  \n",
      " 0   Loan_ID            614 non-null    object \n",
      " 1   Gender             601 non-null    object \n",
      " 2   Married            611 non-null    object \n",
      " 3   Dependents         599 non-null    object \n",
      " 4   Education          614 non-null    object \n",
      " 5   Self_Employed      582 non-null    object \n",
      " 6   ApplicantIncome    614 non-null    int64  \n",
      " 7   CoapplicantIncome  614 non-null    float64\n",
      " 8   LoanAmount         592 non-null    float64\n",
      " 9   Loan_Amount_Term   600 non-null    float64\n",
      " 10  Credit_History     564 non-null    float64\n",
      " 11  Property_Area      614 non-null    object \n",
      " 12  Loan_Status        614 non-null    object \n",
      "dtypes: float64(4), int64(1), object(8)\n",
      "memory usage: 62.5+ KB\n"
     ]
    }
   ],
   "source": [
    "data.info()"
   ]
  },
  {
   "cell_type": "markdown",
   "id": "233e66bf",
   "metadata": {},
   "source": [
    "Dataset have total 614 entries.\n",
    "\n",
    "It is having 614 Rows and Total 13 columns.\n",
    "\n",
    "We can see 4 colunms are float, 1 is interger and 8 are object type.\n",
    "\n",
    "Data having null vaues in gender. married, dependent, Self_Employed, LoanAmount, Loan_Amount_Term and Credit_History columns.\n",
    "\n",
    "loan ID is unique ID it is Object type, Gender, Married, Dependents, Education, Self_Employed, Property_Area, Loan_Status are categorical values\n",
    "\n",
    "Here we can see Dependents cannot be a object, its a numerical data, we will check this in further steps.\n",
    "\n",
    "ApplicantIncome, CoapplicantIncome,LoanAmount, Loan_Amount_Term, Credit_History are Continuous data."
   ]
  },
  {
   "cell_type": "code",
   "execution_count": 14,
   "id": "27aa0dc8",
   "metadata": {},
   "outputs": [],
   "source": [
    "#Droping Loan ID column, as its not important for our analysis.\n",
    "data.drop('Loan_ID', axis=1, inplace= True)"
   ]
  },
  {
   "cell_type": "markdown",
   "id": "64e724d6",
   "metadata": {},
   "source": [
    "# Checking Null values"
   ]
  },
  {
   "cell_type": "code",
   "execution_count": null,
   "id": "7cb945af",
   "metadata": {},
   "outputs": [],
   "source": [
    "data.isnull().sum()"
   ]
  },
  {
   "cell_type": "markdown",
   "id": "938de643",
   "metadata": {},
   "source": [
    "Here we can see data is having null values.\n",
    "\n"
   ]
  },
  {
   "cell_type": "markdown",
   "id": "d68b0ae0",
   "metadata": {},
   "source": [
    "# Filling Null values"
   ]
  },
  {
   "cell_type": "markdown",
   "id": "fb158955",
   "metadata": {},
   "source": [
    "Here we can see our missing values are less than 5 percent, we can use mean, meadian and Mode to fill Nan."
   ]
  },
  {
   "cell_type": "code",
   "execution_count": null,
   "id": "3cd3ded5",
   "metadata": {},
   "outputs": [],
   "source": [
    "data.isnull().sum()"
   ]
  },
  {
   "cell_type": "code",
   "execution_count": null,
   "id": "ca4ed4b4",
   "metadata": {},
   "outputs": [],
   "source": [
    "pd.set_option('display.max_rows', None)"
   ]
  },
  {
   "cell_type": "code",
   "execution_count": null,
   "id": "5c656ba8",
   "metadata": {},
   "outputs": [],
   "source": [
    "data.isin([\"3+\"]).sum()"
   ]
  },
  {
   "cell_type": "code",
   "execution_count": null,
   "id": "544af623",
   "metadata": {},
   "outputs": [],
   "source": [
    "data.replace(to_replace=\"3+\", value='3', inplace= True)\n"
   ]
  },
  {
   "cell_type": "code",
   "execution_count": null,
   "id": "27a6550f",
   "metadata": {},
   "outputs": [],
   "source": [
    "cat_features= data.select_dtypes(include=[np.object])\n",
    "cat_features.head()"
   ]
  },
  {
   "cell_type": "code",
   "execution_count": null,
   "id": "98fdeb41",
   "metadata": {},
   "outputs": [],
   "source": [
    "for col in cat_features:\n",
    "    print('\\n%s column: '%col)\n",
    "    print(data[col].value_counts())\n",
    "    print('=='*16)"
   ]
  },
  {
   "cell_type": "markdown",
   "id": "3026ab81",
   "metadata": {},
   "source": [
    "### Filling Null values in categorical columns using Mode."
   ]
  },
  {
   "cell_type": "code",
   "execution_count": null,
   "id": "cb637ca6",
   "metadata": {},
   "outputs": [],
   "source": [
    "data['Gender'].fillna(value='Male', inplace=True)\n",
    "data['Married'].fillna(value='Yes', inplace=True)\n",
    "data['Dependents'].fillna(value='0', inplace=True)\n",
    "data['Self_Employed'].fillna(value='No', inplace=True)"
   ]
  },
  {
   "cell_type": "markdown",
   "id": "0a7e76bd",
   "metadata": {},
   "source": [
    "Lets deal with Numerical data. We will use mean or meadian to replace null values.\n",
    "First check skewness for categorical data.\n",
    "\n",
    "Here we can see data is skewed, we use Median not mean"
   ]
  },
  {
   "cell_type": "code",
   "execution_count": null,
   "id": "eb422114",
   "metadata": {},
   "outputs": [],
   "source": [
    "num_features= data.select_dtypes(include=[np.number])\n",
    "num_features.head()"
   ]
  },
  {
   "cell_type": "code",
   "execution_count": null,
   "id": "cb4762e3",
   "metadata": {},
   "outputs": [],
   "source": [
    "data['LoanAmount'].fillna(value=data['LoanAmount'].median(), inplace= True)\n",
    "data['Loan_Amount_Term'].fillna(value=data['Loan_Amount_Term'].median(), inplace= True)\n",
    "data['Credit_History'].fillna(value=data['Credit_History'].median(), inplace= True)"
   ]
  },
  {
   "cell_type": "markdown",
   "id": "26db3f5c",
   "metadata": {},
   "source": [
    "We have removed null values lest check again."
   ]
  },
  {
   "cell_type": "code",
   "execution_count": null,
   "id": "238be2ad",
   "metadata": {},
   "outputs": [],
   "source": [
    "data.isnull().sum()"
   ]
  },
  {
   "cell_type": "markdown",
   "id": "f089b4de",
   "metadata": {},
   "source": [
    "In data info we have seen Dependents having data type as object, but it is numerical value. Lets change the Dtype to Int64.\n",
    "\n"
   ]
  },
  {
   "cell_type": "code",
   "execution_count": null,
   "id": "632b28ae",
   "metadata": {},
   "outputs": [],
   "source": [
    "data['Dependents']=data['Dependents'].astype(str).astype(int)"
   ]
  },
  {
   "cell_type": "code",
   "execution_count": null,
   "id": "4e94ac81",
   "metadata": {},
   "outputs": [],
   "source": [
    "data.info()"
   ]
  },
  {
   "cell_type": "markdown",
   "id": "6e892611",
   "metadata": {},
   "source": [
    "# Discriptive Statistics\n"
   ]
  },
  {
   "cell_type": "code",
   "execution_count": null,
   "id": "ebbcd7a0",
   "metadata": {},
   "outputs": [],
   "source": [
    "data.describe()"
   ]
  },
  {
   "cell_type": "markdown",
   "id": "91a6dd71",
   "metadata": {},
   "source": [
    "# EDA\n"
   ]
  },
  {
   "cell_type": "markdown",
   "id": "e5246f1e",
   "metadata": {},
   "source": [
    "## Univariate Analysis\n",
    "Using Univariate analysis we will analyse distribution of data using various graphs.\n",
    "\n",
    "Lets before analysis Label Encode Target columns."
   ]
  },
  {
   "cell_type": "code",
   "execution_count": null,
   "id": "eba36f4a",
   "metadata": {},
   "outputs": [],
   "source": [
    "from sklearn.preprocessing import LabelEncoder\n",
    "le=LabelEncoder()\n",
    "data['Loan_Status']=le.fit_transform(data['Loan_Status'])"
   ]
  },
  {
   "cell_type": "code",
   "execution_count": null,
   "id": "e191d85a",
   "metadata": {},
   "outputs": [],
   "source": [
    "sns.set_theme(style=\"darkgrid\")\n",
    "plt.figure(figsize=(15,8))\n",
    "plt.subplot(1,2,1)\n",
    "sns.countplot(y=data['Gender'] )\n",
    "plt.xlabel('Count', fontsize=15 )\n",
    "plt.ylabel('Gender', fontsize=15 )\n",
    "plt.title('Gender', fontsize=15)\n",
    "\n",
    "plt.subplot(1,2,2)\n",
    "data.groupby('Gender').size().plot(kind='pie', autopct='%.2f')\n",
    "plt.title('Gender', fontsize=15)\n",
    "plt.show()"
   ]
  },
  {
   "cell_type": "markdown",
   "id": "6d9641af",
   "metadata": {},
   "source": [
    "Here we can see 81.76 percent of Applicants are Male.\n",
    "\n"
   ]
  },
  {
   "cell_type": "code",
   "execution_count": null,
   "id": "85ac98e1",
   "metadata": {},
   "outputs": [],
   "source": [
    "sns.set_theme(style=\"darkgrid\")\n",
    "plt.figure(figsize=(15,8))\n",
    "plt.subplot(1,2,1)\n",
    "sns.countplot(y=data['Married'] )\n",
    "plt.xlabel('Count', fontsize=15 )\n",
    "plt.ylabel('Married', fontsize=15 )\n",
    "plt.title('Married', fontsize=15)\n",
    "\n",
    "plt.subplot(1,2,2)\n",
    "data.groupby('Married').size().plot(kind='pie', autopct='%.2f')\n",
    "plt.title('Married', fontsize=15)\n",
    "plt.show()"
   ]
  },
  {
   "cell_type": "markdown",
   "id": "e008950a",
   "metadata": {},
   "source": [
    "We can see 65.31 percent of Applicants are Married.\n",
    "Mostly married pepole are applying for loans to fullfil their needs.\n"
   ]
  },
  {
   "cell_type": "code",
   "execution_count": null,
   "id": "7f601fb4",
   "metadata": {},
   "outputs": [],
   "source": [
    "\n",
    "sns.set_theme(style=\"darkgrid\")\n",
    "plt.figure(figsize=(15,8))\n",
    "plt.subplot(1,2,1)\n",
    "sns.countplot(y=data['Education'] )\n",
    "plt.xlabel('Count', fontsize=15 )\n",
    "plt.ylabel('Education', fontsize=15 )\n",
    "plt.title('Education', fontsize=15)\n",
    "\n",
    "plt.subplot(1,2,2)\n",
    "data.groupby('Education').size().plot(kind='pie', autopct='%.2f')\n",
    "plt.title('Education', fontsize=15)\n",
    "plt.show()"
   ]
  },
  {
   "cell_type": "markdown",
   "id": "db4e1119",
   "metadata": {},
   "source": [
    "Most of the applicatnts are Graduate.\n",
    "It indicates the chance of Graduate applicants to get approvel is high.\n"
   ]
  },
  {
   "cell_type": "code",
   "execution_count": null,
   "id": "5b7687dd",
   "metadata": {},
   "outputs": [],
   "source": [
    "\n",
    "sns.set_theme(style=\"darkgrid\")\n",
    "plt.figure(figsize=(15,8))\n",
    "plt.subplot(1,2,1)\n",
    "sns.countplot(y=data['Self_Employed'] )\n",
    "plt.xlabel('Count', fontsize=15 )\n",
    "plt.ylabel('Self_Employed', fontsize=15 )\n",
    "plt.title('Self_Employed', fontsize=15)\n",
    "\n",
    "plt.subplot(1,2,2)\n",
    "data.groupby('Self_Employed').size().plot(kind='pie', autopct='%.2f')\n",
    "plt.title('Self_Employed', fontsize=15)\n",
    "plt.show()"
   ]
  },
  {
   "cell_type": "markdown",
   "id": "8a5f34f7",
   "metadata": {},
   "source": [
    "Pie chart indicates 86.64 percent of the applicants are not self_employed.\n",
    "Only 13.36 Applicants are self employed.\n",
    "The chance to get load approval is high for applicant who are workign professional or who are in jobs.\n"
   ]
  },
  {
   "cell_type": "code",
   "execution_count": null,
   "id": "e71d5745",
   "metadata": {},
   "outputs": [],
   "source": [
    "\n",
    "sns.set_theme(style=\"darkgrid\")\n",
    "plt.figure(figsize=(15,8))\n",
    "plt.subplot(1,2,1)\n",
    "sns.countplot(y=data['Property_Area'] )\n",
    "plt.xlabel('Counts', fontsize=15 )\n",
    "plt.ylabel('Property_Area', fontsize=15 )\n",
    "plt.title('Property_Area', fontsize=15)\n",
    "\n",
    "plt.subplot(1,2,2)\n",
    "data.groupby('Property_Area').size().plot(kind='pie', autopct='%.2f')\n",
    "plt.title('Property_Area', fontsize=15)\n",
    "plt.show()\n"
   ]
  },
  {
   "cell_type": "code",
   "execution_count": null,
   "id": "80d8e518",
   "metadata": {},
   "outputs": [],
   "source": [
    "Here we can see Semiurban applicants are more, but the numbers are not very much high,\n",
    "Chance of getting loan for each are eaqual."
   ]
  },
  {
   "cell_type": "code",
   "execution_count": null,
   "id": "e8e36c9a",
   "metadata": {},
   "outputs": [],
   "source": [
    "sns.set_theme(style=\"darkgrid\")\n",
    "plt.figure(figsize=(15,8))\n",
    "plt.subplot(1,2,1)\n",
    "sns.countplot(y=data['Dependents'] )\n",
    "plt.xlabel('Counts', fontsize=15 )\n",
    "plt.ylabel('Dependents', fontsize=15 )\n",
    "plt.title('Dependents', fontsize=15)\n",
    "\n",
    "plt.subplot(1,2,2)\n",
    "data.groupby('Dependents').size().plot(kind='pie', autopct='%.2f')\n",
    "plt.title('Dependents', fontsize=15)\n",
    "plt.show()\n"
   ]
  },
  {
   "cell_type": "markdown",
   "id": "7a71fe58",
   "metadata": {},
   "source": [
    "Here we can see 58.63 percent of Applicants are having 0 dependents."
   ]
  },
  {
   "cell_type": "code",
   "execution_count": null,
   "id": "fce9fa0e",
   "metadata": {},
   "outputs": [],
   "source": [
    "plt.figure(figsize=(15,7))\n",
    "\n",
    "sns.histplot(num_features['ApplicantIncome'], bins= 30, color='g')\n",
    "plt.xlabel('ApplicantIncome', fontsize=15 )\n",
    "plt.ylabel('Counts', fontsize=15 )\n",
    "plt.title('ApplicantIncome', fontsize=15)"
   ]
  },
  {
   "cell_type": "markdown",
   "id": "a694af9c",
   "metadata": {},
   "source": [
    "Most of the applicants falls under 10000, very few are having income greater than 10000"
   ]
  },
  {
   "cell_type": "code",
   "execution_count": null,
   "id": "bd1825b2",
   "metadata": {},
   "outputs": [],
   "source": [
    "plt.figure(figsize=(15,7))\n",
    "\n",
    "sns.histplot(num_features['CoapplicantIncome'], bins= 30, color='g')\n",
    "plt.xlabel('CoapplicantIncome', fontsize=15 )\n",
    "plt.ylabel('Density', fontsize=15 )\n",
    "plt.title('CoapplicantIncome', fontsize=15)"
   ]
  },
  {
   "cell_type": "markdown",
   "id": "1a5b8305",
   "metadata": {},
   "source": [
    "Here we can see coapplicants income is very less as compare to applicants income at the same time numbers also very less."
   ]
  },
  {
   "cell_type": "code",
   "execution_count": null,
   "id": "360cfd52",
   "metadata": {},
   "outputs": [],
   "source": [
    "plt.figure(figsize=(15,7))\n",
    "\n",
    "sns.histplot(num_features['LoanAmount'], bins= 50, color='g')\n",
    "plt.xlabel('LoanAmount', fontsize=15 )\n",
    "plt.ylabel('Density', fontsize=15 )\n",
    "plt.title('LoanAmount', fontsize=15)"
   ]
  },
  {
   "cell_type": "markdown",
   "id": "caea2e01",
   "metadata": {},
   "source": [
    "Here we can see most of the applicants apply loan in the range of 100-200, Loan number of applicants for loan values greater than 200 are less.\n"
   ]
  },
  {
   "cell_type": "code",
   "execution_count": null,
   "id": "737def93",
   "metadata": {},
   "outputs": [],
   "source": [
    "\n",
    "plt.figure(figsize=(15,7))\n",
    "\n",
    "sns.histplot(num_features['Loan_Amount_Term'], bins= 10)\n",
    "plt.xlabel('Loan_Amount_Term', fontsize=15 )\n",
    "plt.ylabel('Density', fontsize=15 )\n",
    "plt.title('Loan_Amount_Term', fontsize=15)"
   ]
  },
  {
   "cell_type": "markdown",
   "id": "e986035a",
   "metadata": {},
   "source": [
    "Here we can see most of the loan terms are lie bwteen 350-400 range,\n",
    "applicat with Loan_Amont_term 350 are high in number.\n"
   ]
  },
  {
   "cell_type": "code",
   "execution_count": null,
   "id": "1fed5c6a",
   "metadata": {},
   "outputs": [],
   "source": [
    "\n",
    "sns.set_theme(style=\"darkgrid\")\n",
    "plt.figure(figsize=(15,8))\n",
    "plt.subplot(1,2,1)\n",
    "sns.countplot(y=data['Credit_History'] )\n",
    "plt.xlabel('Counts', fontsize=15 )\n",
    "plt.ylabel('Credit_History', fontsize=15 )\n",
    "plt.title('Credit_History', fontsize=15)\n",
    "\n",
    "plt.subplot(1,2,2)\n",
    "data.groupby('Credit_History').size().plot(kind='pie', autopct='%.2f')\n",
    "plt.title('Credit_History', fontsize=15)\n",
    "plt.show()"
   ]
  },
  {
   "cell_type": "markdown",
   "id": "843c3f27",
   "metadata": {},
   "source": [
    "we can see 85.50 percent of Applicants are having Credit_History.\n"
   ]
  },
  {
   "cell_type": "markdown",
   "id": "dbfbc09c",
   "metadata": {},
   "source": [
    "# Bivariate Analysis\n",
    "In this secton we will analyse our target variable againt the input values. And check the relationship."
   ]
  },
  {
   "cell_type": "code",
   "execution_count": null,
   "id": "be71cef9",
   "metadata": {},
   "outputs": [],
   "source": [
    "\n",
    "plt.figure(figsize=(15,7))\n",
    "sns.countplot(data['Gender'], hue='Loan_Status', data= data)\n",
    "plt.xlabel('Gender', fontsize= 15)\n",
    "plt.ylabel('Count', fontsize= 15)\n",
    "plt.show()"
   ]
  },
  {
   "cell_type": "markdown",
   "id": "69150fd4",
   "metadata": {},
   "source": [
    "Here we can see mostly male apply for loan and the chance for getting approval is high.\n"
   ]
  },
  {
   "cell_type": "code",
   "execution_count": null,
   "id": "94503b01",
   "metadata": {},
   "outputs": [],
   "source": [
    "\n",
    "plt.figure(figsize=(15,7))\n",
    "sns.countplot(data['Married'], hue='Loan_Status', data= data)\n",
    "plt.xlabel('Married', fontsize= 15)\n",
    "plt.ylabel('Count', fontsize= 15)\n",
    "plt.show()"
   ]
  },
  {
   "cell_type": "markdown",
   "id": "ebb3d7fb",
   "metadata": {},
   "source": [
    "Here we can see mostly marrieed pepole apply for loan and count for getting loan is high as compared to Non- married.\n"
   ]
  },
  {
   "cell_type": "code",
   "execution_count": null,
   "id": "fa4fd421",
   "metadata": {},
   "outputs": [],
   "source": [
    "\n",
    "plt.figure(figsize=(15,7))\n",
    "sns.countplot(data['Education'], hue='Loan_Status', data= data)\n",
    "plt.xlabel('Education', fontsize= 15)\n",
    "plt.ylabel('Count', fontsize= 15)\n",
    "plt.show()"
   ]
  },
  {
   "cell_type": "markdown",
   "id": "117bdaa2",
   "metadata": {},
   "source": [
    "We can see Graduate Applicants are more and getting approval also more for Graduate applicants.\n"
   ]
  },
  {
   "cell_type": "code",
   "execution_count": null,
   "id": "a2081a07",
   "metadata": {},
   "outputs": [],
   "source": [
    "\n",
    "plt.figure(figsize=(15,7))\n",
    "sns.countplot(data['Self_Employed'], hue='Loan_Status', data= data)\n",
    "plt.xlabel('Self_Employed', fontsize= 15)\n",
    "plt.ylabel('Count', fontsize= 15)\n",
    "plt.show()"
   ]
  },
  {
   "cell_type": "markdown",
   "id": "38e267ad",
   "metadata": {},
   "source": [
    "We can see self_employed applicants are less, the change for getting approval is low for Self_employed applicants.\n"
   ]
  },
  {
   "cell_type": "code",
   "execution_count": null,
   "id": "66a90c3d",
   "metadata": {},
   "outputs": [],
   "source": [
    "plt.figure(figsize=(15,7))\n",
    "sns.countplot(data['Property_Area'], hue='Loan_Status', data= data)\n",
    "plt.xlabel('Property_Area', fontsize= 15)\n",
    "plt.ylabel('Count', fontsize= 15)\n",
    "plt.show()"
   ]
  },
  {
   "cell_type": "markdown",
   "id": "efd7a05b",
   "metadata": {},
   "source": [
    "Here we can see Applicants from Semiurban area are having higher chance for approval as numbers are high as compare to other Area."
   ]
  },
  {
   "cell_type": "code",
   "execution_count": null,
   "id": "575068f7",
   "metadata": {},
   "outputs": [],
   "source": [
    "plt.figure(figsize=(15,7))\n",
    "sns.countplot(data['Credit_History'], hue='Loan_Status', data= data)\n",
    "plt.xlabel('Credit_History', fontsize= 15)\n",
    "plt.ylabel('Count', fontsize= 15)\n",
    "plt.show()\n"
   ]
  },
  {
   "cell_type": "markdown",
   "id": "06da8370",
   "metadata": {},
   "source": [
    "Here we can see Applicant having create histry, having good chance for approval.\n"
   ]
  },
  {
   "cell_type": "code",
   "execution_count": null,
   "id": "8f535066",
   "metadata": {},
   "outputs": [],
   "source": [
    "\n",
    "plt.figure(figsize=(10,6))\n",
    "sns.lineplot(x='ApplicantIncome',y='LoanAmount',data=data)"
   ]
  },
  {
   "cell_type": "markdown",
   "id": "e34abbd3",
   "metadata": {},
   "source": [
    "We can see with increase in the income parameter loan amount also increasing. but the number of applicants are less. Because with increase in the income there is no need for loan.\n"
   ]
  },
  {
   "cell_type": "code",
   "execution_count": null,
   "id": "f37dc036",
   "metadata": {},
   "outputs": [],
   "source": [
    "\n",
    "plt.figure(figsize=(15,7))\n",
    "sns.distplot(data[data['Loan_Status']==0]['ApplicantIncome'], hist=False)\n",
    "sns.distplot(data[data['Loan_Status']==1]['ApplicantIncome'], hist=False )"
   ]
  },
  {
   "cell_type": "markdown",
   "id": "479fce24",
   "metadata": {},
   "source": [
    "Here we can see initially with less income, chance of approval is low,\n",
    "But as the income increase chance of approval also increase."
   ]
  },
  {
   "cell_type": "code",
   "execution_count": null,
   "id": "23064ddb",
   "metadata": {},
   "outputs": [],
   "source": [
    "plt.figure(figsize=(15,7))\n",
    "sns.distplot(data[data['Loan_Status']==0]['Loan_Amount_Term'], hist=False)\n",
    "sns.distplot(data[data['Loan_Status']==1]['Loan_Amount_Term'], hist=False )"
   ]
  },
  {
   "cell_type": "markdown",
   "id": "d4920dbd",
   "metadata": {},
   "source": [
    "Here we can see between 300- 400 the chance of approval are good."
   ]
  },
  {
   "cell_type": "code",
   "execution_count": null,
   "id": "2185a352",
   "metadata": {},
   "outputs": [],
   "source": [
    "plt.figure(figsize=(15,7))\n",
    "sns.distplot(data[data['Loan_Status']==0]['CoapplicantIncome'], hist=False)\n",
    "sns.distplot(data[data['Loan_Status']==1]['CoapplicantIncome'], hist=False )"
   ]
  },
  {
   "cell_type": "markdown",
   "id": "a2aa1e83",
   "metadata": {},
   "source": [
    "Here we can see coapplicantincome increases the chance of getting approval."
   ]
  },
  {
   "cell_type": "code",
   "execution_count": null,
   "id": "01b314d4",
   "metadata": {},
   "outputs": [],
   "source": [
    "plt.figure(figsize=(15,7))\n",
    "sns.distplot(data[data['Loan_Status']==0]['LoanAmount'], hist=False)\n",
    "sns.distplot(data[data['Loan_Status']==1]['LoanAmount'], hist=False )"
   ]
  },
  {
   "cell_type": "markdown",
   "id": "77584081",
   "metadata": {},
   "source": [
    "For loan amount lower than 200, the chance of getting approval is good, But as the loan amount increase, chance of getting approval is decreases.\n",
    "\n",
    "\n",
    "# Multivariate Anaysis"
   ]
  },
  {
   "cell_type": "code",
   "execution_count": null,
   "id": "d9d90ec9",
   "metadata": {},
   "outputs": [],
   "source": [
    "sns.pairplot(data=data, hue='Loan_Status')"
   ]
  },
  {
   "cell_type": "markdown",
   "id": "72f404ea",
   "metadata": {},
   "source": [
    "# EDA Summary\n",
    "\n",
    "Gender: For male Chance of approval is high.\n",
    "\n",
    "Married: Married Applicants are more so the chances for approval also high.\n",
    "\n",
    "Dependents: Higher the Number of dependent lowers the chance of approval. Education: Chances for approval increase with higher education.\n",
    "\n",
    "Self_Employed: It lowers the chance of loan approval. ApplicantIncome: It also increse the chance of loan approval.\n",
    "\n",
    "CoapplicantIncome : CoapplicantIncome incease the chance of loan approval increases. LoanAmount : For higher loan chances of approval are low.\n",
    "\n",
    "Loan_Amount_Term: For specofic term the chances are high, but is it not linear. Credit_History: Applicant with creadit history have high chance of approval. Property_Area: Semi Urban Area have hugh chance of approval."
   ]
  },
  {
   "cell_type": "markdown",
   "id": "06eb17af",
   "metadata": {},
   "source": [
    "# Data Preprocessing\n",
    "\n",
    "In this stage we will prepare our data for modle builing\n",
    "\n",
    "we will change the categorical data into numerical data using encoders\n",
    "\n",
    "Then we will check the outliers and skewness for conteneus columns.\n",
    "\n",
    "At the scaling of data etc.\n"
   ]
  },
  {
   "cell_type": "markdown",
   "id": "480f2c0b",
   "metadata": {},
   "source": [
    "# Categorical columns need to endcode\n",
    "\n",
    "'Gender', 'Married','Education', 'Self_Employed', 'Property_Area'\n",
    "\n",
    "All are nominal values we can use pandas get_dummies to encode our categorical colummns."
   ]
  },
  {
   "cell_type": "code",
   "execution_count": null,
   "id": "c40a796e",
   "metadata": {},
   "outputs": [],
   "source": [
    "feature=data.drop(['Loan_Status'], axis=1)\n",
    "target= data['Loan_Status']\n",
    "data_new= pd.get_dummies(feature,sparse=False, drop_first=True )\n",
    "data_new['Loan_Status']= target\n",
    "data_new.shape"
   ]
  },
  {
   "cell_type": "code",
   "execution_count": null,
   "id": "9a721f75",
   "metadata": {},
   "outputs": [],
   "source": [
    "data_new.head()"
   ]
  },
  {
   "cell_type": "code",
   "execution_count": null,
   "id": "10d7aa55",
   "metadata": {},
   "outputs": [],
   "source": [
    "data_new.corr()"
   ]
  },
  {
   "cell_type": "code",
   "execution_count": null,
   "id": "60aa0de5",
   "metadata": {},
   "outputs": [],
   "source": [
    "plt.figure(figsize=(15,7))\n",
    "sns.heatmap(data_new.corr(), annot=True, linewidths=1,linecolor='black',fmt=' .2f')"
   ]
  },
  {
   "cell_type": "code",
   "execution_count": null,
   "id": "eabce211",
   "metadata": {},
   "outputs": [],
   "source": [
    "plt.figure(figsize=(15,10))\n",
    "data_new.corr()['Loan_Status'].sort_values(ascending=False).drop(['Loan_Status']).plot(kind='bar',color='c')\n",
    "plt.xlabel('Feature', fontsize=14)\n",
    "plt.ylabel('Columns with target name', fontsize=14)\n",
    "plt.title('Correlation',fontsize=18)\n",
    "plt.show()"
   ]
  },
  {
   "cell_type": "markdown",
   "id": "afd00439",
   "metadata": {},
   "source": [
    "Here we can see Credit histry , Property area, Married_yes, Gender anddependent having positive corelation, where as other have negative or zero corelation."
   ]
  },
  {
   "cell_type": "markdown",
   "id": "0359eef9",
   "metadata": {},
   "source": [
    "# Checkign outliers and skewness\n"
   ]
  },
  {
   "cell_type": "code",
   "execution_count": null,
   "id": "6100e3e9",
   "metadata": {},
   "outputs": [],
   "source": [
    "\n",
    "data_new['ApplicantIncome'].plot.box()"
   ]
  },
  {
   "cell_type": "code",
   "execution_count": null,
   "id": "7c7f6bbe",
   "metadata": {},
   "outputs": [],
   "source": [
    "data_new['CoapplicantIncome'].plot.box()\n",
    "data_new['LoanAmount'].plot.box()\n",
    "data_new['Loan_Amount_Term'].plot.box()"
   ]
  },
  {
   "cell_type": "markdown",
   "id": "1c4278f1",
   "metadata": {},
   "source": [
    "We can see contineous columns are having outliers."
   ]
  },
  {
   "cell_type": "markdown",
   "id": "944ba5a9",
   "metadata": {},
   "source": [
    "# Remove Outliers "
   ]
  },
  {
   "cell_type": "code",
   "execution_count": null,
   "id": "7704386c",
   "metadata": {},
   "outputs": [],
   "source": [
    "from scipy.stats import zscore\n",
    "z= np.abs(zscore(data_new))\n",
    "threshold = 3\n",
    "print(np.where(z > 3))"
   ]
  },
  {
   "cell_type": "code",
   "execution_count": null,
   "id": "7c6de6a3",
   "metadata": {},
   "outputs": [],
   "source": [
    "df=data_new[(z<3).all(axis=1)]\n",
    "print(data_new.shape)\n",
    "print(df.shape)"
   ]
  },
  {
   "cell_type": "code",
   "execution_count": null,
   "id": "d4b24032",
   "metadata": {},
   "outputs": [],
   "source": [
    "Loss_percentage=(614-577)/614*100\n",
    "print(Loss_percentage)"
   ]
  },
  {
   "cell_type": "code",
   "execution_count": null,
   "id": "500bf771",
   "metadata": {},
   "outputs": [],
   "source": [
    "df.skew()"
   ]
  },
  {
   "cell_type": "markdown",
   "id": "3c7ec33b",
   "metadata": {},
   "source": [
    "ApplicantIncome, CoapplicantIncome,LoanAmount, Loan_Amount_Term are having skewness, lets remove using log transform."
   ]
  },
  {
   "cell_type": "code",
   "execution_count": null,
   "id": "84b44c2c",
   "metadata": {},
   "outputs": [],
   "source": [
    "from sklearn.preprocessing import power_transform"
   ]
  },
  {
   "cell_type": "code",
   "execution_count": null,
   "id": "008716bb",
   "metadata": {},
   "outputs": [],
   "source": [
    "df_skewed=df.iloc[:,0:6]"
   ]
  },
  {
   "cell_type": "code",
   "execution_count": null,
   "id": "465d40b1",
   "metadata": {},
   "outputs": [],
   "source": [
    "\n",
    "X=power_transform(df_skewed, method='yeo-johnson')"
   ]
  },
  {
   "cell_type": "code",
   "execution_count": null,
   "id": "b243d4c9",
   "metadata": {},
   "outputs": [],
   "source": [
    "X=pd.DataFrame(data=X, columns=['Dependents','ApplicantIncome','CoapplicantIncome','LoanAmount','Loan_Amount_Term','Credit_History'])"
   ]
  },
  {
   "cell_type": "code",
   "execution_count": null,
   "id": "65c88478",
   "metadata": {},
   "outputs": [],
   "source": [
    "df.drop(['Dependents','ApplicantIncome','CoapplicantIncome','LoanAmount','Loan_Amount_Term','Credit_History'], axis=1,inplace=True)"
   ]
  },
  {
   "cell_type": "code",
   "execution_count": null,
   "id": "5e636995",
   "metadata": {},
   "outputs": [],
   "source": [
    "df=df.reset_index()\n",
    "df['Dependents']=X['Dependents']\n",
    "df['ApplicantIncome']=X['ApplicantIncome']\n",
    "df['CoapplicantIncome']=X['CoapplicantIncome']\n",
    "df['LoanAmount']=X['LoanAmount']\n",
    "df['Loan_Amount_Term']=X['Loan_Amount_Term']\n",
    "df['Credit_History']=X['Credit_History']\n",
    "df.head()"
   ]
  },
  {
   "cell_type": "markdown",
   "id": "914e8bfe",
   "metadata": {},
   "source": [
    "# Scaling the data Using StandardScaler."
   ]
  },
  {
   "cell_type": "code",
   "execution_count": null,
   "id": "4cf37156",
   "metadata": {},
   "outputs": [],
   "source": [
    "# Dividing into Feature and Target data\n",
    "x=df.drop(['index', 'Loan_Status'],axis=1)\n",
    "y=df['Loan_Status']\n"
   ]
  },
  {
   "cell_type": "code",
   "execution_count": null,
   "id": "9b730e87",
   "metadata": {},
   "outputs": [],
   "source": [
    "from sklearn.preprocessing import StandardScaler\n",
    "SDC=StandardScaler()\n",
    "x=SDC.fit_transform(x)\n",
    "sns.countplot(y)"
   ]
  },
  {
   "cell_type": "markdown",
   "id": "b7294a90",
   "metadata": {},
   "source": [
    "Here we can see our output is not balanced we will now use SMOTE to balance the output."
   ]
  },
  {
   "cell_type": "code",
   "execution_count": null,
   "id": "c18d7d64",
   "metadata": {},
   "outputs": [],
   "source": [
    "from imblearn.over_sampling import SMOTE\n",
    "X_train_over, Y_train_over =SMOTE(k_neighbors=3).fit_resample(x,y)\n",
    "X_train_over.shape"
   ]
  },
  {
   "cell_type": "code",
   "execution_count": null,
   "id": "eb08f46f",
   "metadata": {},
   "outputs": [],
   "source": [
    "Y_train_over.value_counts()"
   ]
  },
  {
   "cell_type": "code",
   "execution_count": null,
   "id": "836b3aaf",
   "metadata": {},
   "outputs": [],
   "source": [
    "dfx=pd.DataFrame(data=X_train_over, columns=['Gender_Male','Married_Yes','Education_Not Graduate','Self_Employed_Yes','Property_Area_Semiurban','Property_Area_Urban','Dependents','ApplicantIncome','CoapplicantIncome','LoanAmount','Loan_Amount_Term','Credit_History'])"
   ]
  },
  {
   "cell_type": "markdown",
   "id": "7bf8471f",
   "metadata": {},
   "source": [
    "Here we can see over data is balance now."
   ]
  },
  {
   "cell_type": "code",
   "execution_count": null,
   "id": "c0d13b5f",
   "metadata": {},
   "outputs": [],
   "source": [
    "# VIF calculation\n"
   ]
  },
  {
   "cell_type": "code",
   "execution_count": null,
   "id": "6249d2d3",
   "metadata": {},
   "outputs": [],
   "source": [
    "import statsmodels.api as sm\n",
    "from scipy import stats\n",
    "from statsmodels.stats.outliers_influence import variance_inflation_factor\n",
    "def calc_vif(x):\n",
    "    vif=pd.DataFrame()\n",
    "    vif['variables']=x.columns\n",
    "    vif['VIF FACTOR']=[variance_inflation_factor(x.values,i) for i in range(x.shape[1])]\n",
    "    return(vif)\n",
    "calc_vif(dfx)"
   ]
  },
  {
   "cell_type": "markdown",
   "id": "59677897",
   "metadata": {},
   "source": [
    "Vif is less than 10 we can proceed for model development"
   ]
  },
  {
   "cell_type": "code",
   "execution_count": null,
   "id": "7d600bdf",
   "metadata": {},
   "outputs": [],
   "source": [
    "from sklearn.model_selection import train_test_split\n",
    "from sklearn.metrics import accuracy_score, confusion_matrix\n",
    "\n",
    "from sklearn.linear_model import LogisticRegression \n",
    "from sklearn.neighbors import KNeighborsClassifier\n",
    "from sklearn.svm import SVC\n",
    "from sklearn.tree import DecisionTreeClassifier \n",
    "from sklearn.ensemble import RandomForestClassifier\n",
    "from sklearn.ensemble import AdaBoostClassifier \n",
    "from sklearn.naive_bayes import GaussianNB\n",
    "from sklearn.naive_bayes import MultinomialNB"
   ]
  },
  {
   "cell_type": "code",
   "execution_count": null,
   "id": "a67a83ff",
   "metadata": {},
   "outputs": [],
   "source": [
    "x=dfx\n",
    "y=Y_train_over"
   ]
  },
  {
   "cell_type": "code",
   "execution_count": null,
   "id": "5a1bff56",
   "metadata": {},
   "outputs": [],
   "source": [
    "x.shape"
   ]
  },
  {
   "cell_type": "code",
   "execution_count": null,
   "id": "d712d94f",
   "metadata": {},
   "outputs": [],
   "source": [
    "y.shape"
   ]
  },
  {
   "cell_type": "markdown",
   "id": "8f8630b0",
   "metadata": {},
   "source": [
    "# Chosing Best Random State\n"
   ]
  },
  {
   "cell_type": "code",
   "execution_count": null,
   "id": "a8176d8e",
   "metadata": {},
   "outputs": [],
   "source": [
    "lr= LogisticRegression()\n",
    "for i in range(0,1000):\n",
    "    x_train, x_test, y_train, y_test= train_test_split(x,y, random_state= i, test_size= 0.20)\n",
    "    lr.fit(x_train, y_train)\n",
    "    pred_train=lr.predict(x_train)\n",
    "    pred_test=lr.predict(x_test)\n",
    "    if round(accuracy_score(y_train,pred_train)*100,1)== round(accuracy_score(y_test,pred_test)*100,1):\n",
    "        print(\"At Random state \", i, \"The Model performing Well\")\n",
    "        print(\"At Random State\", i)\n",
    "        print(\"Training Accuracy score is-\",accuracy_score(y_train,pred_train)*100 )\n",
    "        print(\"Testing Accuracy Score is-\", accuracy_score(y_test,pred_test)*100)"
   ]
  },
  {
   "cell_type": "code",
   "execution_count": null,
   "id": "613ca2b9",
   "metadata": {},
   "outputs": [],
   "source": [
    "x_train_b, x_test_b, y_train_b, y_test_b= train_test_split(x,y,random_state=801,test_size=0.20)"
   ]
  },
  {
   "cell_type": "code",
   "execution_count": null,
   "id": "683f44e6",
   "metadata": {},
   "outputs": [],
   "source": [
    "lr.fit(x_train_b, y_train_b)\n",
    "lr_pred=lr.predict(x_test_b)\n",
    "print(accuracy_score(y_test_b,lr_pred))"
   ]
  },
  {
   "cell_type": "code",
   "execution_count": null,
   "id": "561c01cf",
   "metadata": {},
   "outputs": [],
   "source": [
    "from sklearn.metrics import classification_report \n",
    "print(confusion_matrix(y_test_b, lr_pred))\n",
    "print(classification_report(y_test_b, lr_pred))"
   ]
  },
  {
   "cell_type": "markdown",
   "id": "3c2867e5",
   "metadata": {},
   "source": [
    "# Cross validation of model"
   ]
  },
  {
   "cell_type": "code",
   "execution_count": null,
   "id": "8d4c2e2b",
   "metadata": {},
   "outputs": [],
   "source": [
    "lr_pred=lr.predict(x_test_b)\n",
    "from sklearn.model_selection import cross_val_score\n",
    "lr_score=accuracy_score(y_test_b,lr_pred)\n",
    "for j in range(2,10):\n",
    "    lr_cv= cross_val_score(lr,x,y,cv=j, scoring='accuracy')\n",
    "    lr_cvscore=lr_cv.mean()\n",
    "    print(\"at cv:-\", j)\n",
    "    print(\"Cross Validation scre is:-\",lr_cvscore*100)\n",
    "    print(\"Accuracy Score:-\", lr_score*100)\n",
    "    print(\"\\n\")"
   ]
  },
  {
   "cell_type": "markdown",
   "id": "169a446e",
   "metadata": {},
   "source": [
    "At cv-7 Cross val score and Accuracy Score are having diffrence, Model is not perfoming well.\n",
    "But still need improvement\n",
    "Lets try another model\n"
   ]
  },
  {
   "cell_type": "markdown",
   "id": "a7547797",
   "metadata": {},
   "source": [
    "# SVC"
   ]
  },
  {
   "cell_type": "code",
   "execution_count": null,
   "id": "10a4867c",
   "metadata": {},
   "outputs": [],
   "source": [
    "svc=SVC()\n",
    "svc.fit(x_train_b, y_train_b)\n",
    "svc.score(x_train_b, y_train_b)\n",
    "svc_pred=svc.predict(x_test_b)\n",
    "\n",
    "svc_d=accuracy_score(y_test_b, svc_pred)\n",
    "print('Accuracy_core:', svc_d*100)\n",
    "\n",
    "svc_cv= cross_val_score(svc,x,y,cv=7, scoring='accuracy')\n",
    "svc_score=svc_cv.mean()\n",
    "print('Cross val Score :', svc_score*100)"
   ]
  },
  {
   "cell_type": "code",
   "execution_count": null,
   "id": "0e362766",
   "metadata": {},
   "outputs": [],
   "source": [
    "print(confusion_matrix(y_test_b, svc_pred))\n",
    "print(classification_report(y_test_b, svc_pred))"
   ]
  },
  {
   "cell_type": "markdown",
   "id": "578ecf8c",
   "metadata": {},
   "source": [
    "Accuracy_core: 75.625 Cross val Score : 75.26005278683435\n",
    "Diffrence is lesser as compare to Logistic regression, lets try anaother model."
   ]
  },
  {
   "cell_type": "code",
   "execution_count": null,
   "id": "45e7edc8",
   "metadata": {},
   "outputs": [],
   "source": [
    "# Ensemble Techniques\n",
    "\n",
    "## KNeighborsClassifier"
   ]
  },
  {
   "cell_type": "code",
   "execution_count": null,
   "id": "506eb7e8",
   "metadata": {},
   "outputs": [],
   "source": [
    "kn=KNeighborsClassifier()\n",
    "kn.fit(x_train_b, y_train_b)\n",
    "kn.score(x_train_b,y_train_b)\n",
    "kn_pred=kn.predict(x_test_b)\n",
    "\n",
    "kn_score= accuracy_score(y_test_b, kn_pred)\n",
    "print('accuracy_score:', kn_score*100)\n",
    "\n",
    "kncvscore=cross_val_score(kn,x,y, cv=7, scoring='accuracy')\n",
    "kncv_score=kncvscore.mean()\n",
    "print('Cross val Score :',kncv_score*100 )"
   ]
  },
  {
   "cell_type": "code",
   "execution_count": null,
   "id": "d306e788",
   "metadata": {},
   "outputs": [],
   "source": [
    "print(confusion_matrix(y_test_b, kn_pred))\n",
    "print(classification_report(y_test_b, kn_pred))"
   ]
  },
  {
   "cell_type": "markdown",
   "id": "2f12672c",
   "metadata": {},
   "source": [
    "Both accuracy score and Cross val score having lesser diffrence, as compare to SVC and logistic, KNeighborsClassifier is performing well."
   ]
  },
  {
   "cell_type": "markdown",
   "id": "3ac6ec41",
   "metadata": {},
   "source": [
    "# DecisionTreeClassifier"
   ]
  },
  {
   "cell_type": "code",
   "execution_count": null,
   "id": "810d2857",
   "metadata": {},
   "outputs": [],
   "source": [
    "dt=DecisionTreeClassifier()\n",
    "dt.fit(x_train_b,y_train_b)\n",
    "dt.score(x_train_b, y_train_b)\n",
    "dt_pred=dt.predict(x_test_b)\n",
    "\n",
    "dt_score= accuracy_score(y_test_b, dt_pred)\n",
    "print(\"accuracy_score\", dt_score*100)\n",
    "\n",
    "dt_cv=cross_val_score(dt,x,y,cv=7, scoring='accuracy')\n",
    "dtcv_score= dt_cv.mean()\n",
    "print(\"Cross val score is:\",dtcv_score*100 )"
   ]
  },
  {
   "cell_type": "code",
   "execution_count": null,
   "id": "fab6cb8f",
   "metadata": {},
   "outputs": [],
   "source": [
    "print(confusion_matrix(y_test_b, dt_pred))\n",
    "print(classification_report(y_test_b, dt_pred))"
   ]
  },
  {
   "cell_type": "markdown",
   "id": "30d01e77",
   "metadata": {},
   "source": [
    "accuracy_score 73.125\n",
    "Cross val score is: 79.65378046887129\n",
    "Both accuracy score and Cross val score having big diffrence, Model performance is bad.\n"
   ]
  },
  {
   "cell_type": "markdown",
   "id": "84981784",
   "metadata": {},
   "source": [
    "# RandomForestClassifier"
   ]
  },
  {
   "cell_type": "code",
   "execution_count": null,
   "id": "a9a23333",
   "metadata": {},
   "outputs": [],
   "source": [
    "rf=RandomForestClassifier()\n",
    "rf.fit(x_train_b, y_train_b)\n",
    "rf.score(x_train_b,y_train_b)\n",
    "rf_pred=rf.predict(x_test_b)\n",
    "\n",
    "rf_score= accuracy_score(y_test_b, rf_pred)\n",
    "print('accuracy_score: ', rf_score*100)\n",
    "\n",
    "rfcvscore=cross_val_score(rf,x,y, cv=7, scoring='accuracy')\n",
    "rfcv_score=rfcvscore.mean()\n",
    "print('Cross val Score :',rfcv_score*100 )"
   ]
  },
  {
   "cell_type": "code",
   "execution_count": null,
   "id": "21e3e252",
   "metadata": {},
   "outputs": [],
   "source": [
    "print(confusion_matrix(y_test_b, rf_pred))\n",
    "print(classification_report(y_test_b, rf_pred))"
   ]
  },
  {
   "cell_type": "markdown",
   "id": "41e8a751",
   "metadata": {},
   "source": [
    "accuracy_score: 85.625\n",
    "Cross val Score : 85.06443098897688\n",
    "    \n",
    "Both the score are having very less diffrence as compare to other models, RandomForestClassifier performing good."
   ]
  },
  {
   "cell_type": "markdown",
   "id": "4174dc6d",
   "metadata": {},
   "source": [
    "# AdaBoostClassifier\n"
   ]
  },
  {
   "cell_type": "code",
   "execution_count": null,
   "id": "b35aef4a",
   "metadata": {},
   "outputs": [],
   "source": [
    "ad=AdaBoostClassifier()\n",
    "ad.fit(x_train_b, y_train_b)\n",
    "ad.score(x_train_b,y_train_b)\n",
    "ad_pred=ad.predict(x_test_b)\n",
    "\n",
    "ad_score= accuracy_score(y_test_b, ad_pred)\n",
    "print('accuracy_score: ', ad_score*100)\n",
    "\n",
    "adcvscore=cross_val_score(ad,x,y, cv=7, scoring='accuracy')\n",
    "adcv_score=adcvscore.mean()\n",
    "print('Cross val Score :',adcv_score*100 )"
   ]
  },
  {
   "cell_type": "code",
   "execution_count": null,
   "id": "70848cbd",
   "metadata": {},
   "outputs": [],
   "source": [
    "print(confusion_matrix(y_test_b, ad_pred))\n",
    "print(classification_report(y_test_b, ad_pred))"
   ]
  },
  {
   "cell_type": "markdown",
   "id": "af0871ff",
   "metadata": {},
   "source": [
    "Model performance is bad. RandomForestClassifier is still better."
   ]
  },
  {
   "cell_type": "markdown",
   "id": "314a8fc0",
   "metadata": {},
   "source": [
    "# GaussianNB\n"
   ]
  },
  {
   "cell_type": "code",
   "execution_count": null,
   "id": "cef8203e",
   "metadata": {},
   "outputs": [],
   "source": [
    "from sklearn.naive_bayes import GaussianNB\n",
    "gb=GaussianNB()\n",
    "gb.fit(x_train_b, y_train_b)\n",
    "gb.score(x_train_b, y_train_b)\n",
    "gb_pred=gb.predict(x_test_b)\n",
    "\n",
    "gb_score=accuracy_score(y_test_b, gb_pred)\n",
    "print(\"Accuracy Score is:\", gb_score*100)\n",
    "\n",
    "gb_cv= cross_val_score(gb, x,y,cv=7, scoring='accuracy')\n",
    "gb_cvscore=gb_cv.mean()\n",
    "print(\"Cross Val Score is :\", gb_cvscore*100)"
   ]
  },
  {
   "cell_type": "code",
   "execution_count": null,
   "id": "4785d92a",
   "metadata": {},
   "outputs": [],
   "source": [
    "print(confusion_matrix(y_test_b, gb_pred))\n",
    "print(classification_report(y_test_b, gb_pred))"
   ]
  },
  {
   "cell_type": "markdown",
   "id": "4bdaf14d",
   "metadata": {},
   "source": [
    "Model performance is good,but RandomForestClassifier is still better"
   ]
  },
  {
   "cell_type": "markdown",
   "id": "24ece896",
   "metadata": {},
   "source": [
    "# Hyperparameter Tuning of the model\n"
   ]
  },
  {
   "cell_type": "code",
   "execution_count": null,
   "id": "879ece72",
   "metadata": {},
   "outputs": [],
   "source": [
    "from sklearn.model_selection import GridSearchCV\n",
    "from sklearn.ensemble import RandomForestClassifier\n",
    "\n",
    "parameters={'n_estimators' : [100, 300,400, 500, 800, 1200], 'criterion':['gini', 'entropy'], 'max_features':['auto','sqrt', 'log2'], 'min_samples_split':[2, 5, 10, 15, 100],'max_depth':[5, 8, 15, 25, 30] }\n",
    "rf=RandomForestClassifier()\n",
    "rfclf=GridSearchCV(rf, param_grid=parameters, n_jobs=-1)\n",
    "rfclf.fit(x_train_b, y_train_b)\n",
    "print(rfclf.best_params_)"
   ]
  },
  {
   "cell_type": "code",
   "execution_count": null,
   "id": "b4adef8c",
   "metadata": {},
   "outputs": [],
   "source": [
    "rf=RandomForestClassifier(criterion='gini',max_depth=25, max_features='auto', min_samples_split=2, n_estimators=500 )\n",
    "rf.fit(x_train_b, y_train_b)\n",
    "rf.score(x_train_b,y_train_b)\n",
    "rf_pred=rf.predict(x_test_b)\n",
    "\n",
    "rf_score= accuracy_score(y_test_b, rf_pred)\n",
    "print('accuracy_score: ', rf_score*100)\n",
    "\n",
    "rfcvscore=cross_val_score(rf,x,y, cv=7,scoring='accuracy')\n",
    "rfcv_score=rfcvscore.mean()\n",
    "print('Cross val Score :',rfcv_score*100 )"
   ]
  },
  {
   "cell_type": "code",
   "execution_count": null,
   "id": "236e773b",
   "metadata": {},
   "outputs": [],
   "source": [
    "rf=RandomForestClassifier(criterion='gini',max_depth=25, max_features='auto', min_samples_split=2, n_estimators=500 )\n",
    "rf.fit(x_train_b, y_train_b)\n",
    "rf.score(x_train_b,y_train_b)\n",
    "rf_pred=rf.predict(x_test_b)\n",
    "\n",
    "rf_score= accuracy_score(y_test_b, rf_pred)\n",
    "print('accuracy_score: ', rf_score*100)\n",
    "\n",
    "rfcvscore=cross_val_score(rf,x,y, cv=7,scoring='accuracy')\n",
    "rfcv_score=rfcvscore.mean()\n",
    "print('Cross val Score :',rfcv_score*100 )"
   ]
  },
  {
   "cell_type": "code",
   "execution_count": null,
   "id": "cd74d589",
   "metadata": {},
   "outputs": [],
   "source": [
    "dt=DecisionTreeClassifier(criterion='entropy', max_features='auto', splitter= 'best', min_samples_leaf=1)\n",
    "dt.fit(x_train_b,y_train_b)\n",
    "dt.score(x_train_b, y_train_b)\n",
    "dt_pred=dt.predict(x_test_b)\n",
    "\n",
    "dt_score= accuracy_score(y_test_b, dt_pred)\n",
    "print(\"accuracy_score\", dt_score*100)\n",
    "\n",
    "dt_cv=cross_val_score(dt,x,y,cv=7, scoring='accuracy')\n",
    "dtcv_score= dt_cv.mean()\n",
    "print(\"Cross val score is:\",dtcv_score*100 )"
   ]
  },
  {
   "cell_type": "code",
   "execution_count": null,
   "id": "3157e19b",
   "metadata": {},
   "outputs": [],
   "source": [
    "from sklearn.neighbors import KNeighborsClassifier\n",
    "parameters={'n_neighbors':[1,3,4,5,7,9],'weights':['uniform', 'distance'], 'algorithm':['auto','ball_tree','kd_tree', 'brute'], 'leaf_size':[10,20,30,40,50]}\n",
    "kn=KNeighborsClassifier()\n",
    "knclf=GridSearchCV(kn,parameters)\n",
    "knclf.fit(x_train_b, y_train_b)\n",
    "print(knclf.best_params_)"
   ]
  },
  {
   "cell_type": "code",
   "execution_count": null,
   "id": "4f2c6a87",
   "metadata": {},
   "outputs": [],
   "source": [
    "kn=KNeighborsClassifier(algorithm='auto',leaf_size=10,  n_neighbors=1, weights='uniform')\n",
    "kn.fit(x_train_b, y_train_b)\n",
    "kn.score(x_train_b,y_train_b)\n",
    "kn_pred=kn.predict(x_test_b)\n",
    "\n",
    "kn_score= accuracy_score(y_test_b, kn_pred)\n",
    "print('accuracy_score:', kn_score*100)\n",
    "\n",
    "kncvscore=cross_val_score(kn,x,y, cv=7, scoring='accuracy')\n",
    "kncv_score=kncvscore.mean()\n",
    "print('Cross val Score :',kncv_score*100 )"
   ]
  },
  {
   "cell_type": "code",
   "execution_count": null,
   "id": "82c14fa8",
   "metadata": {},
   "outputs": [],
   "source": [
    "from sklearn.model_selection import GridSearchCV\n",
    "from sklearn.svm import SVC\n",
    "parameters= {'C':[0.1,1.0,1.5,2,2.5],'kernel':[ 'linear','poly', 'rbf', 'sigmoid'], 'random_state': list(range(0,5)), 'gamma':['scale', 'auto'],'decision_function_shape':['ovo', 'ovr']}\n",
    "svc=SVC()\n",
    "clf=GridSearchCV(svc, param_grid=parameters, n_jobs=-1)\n",
    "clf.fit(x_train_b, y_train_b)\n",
    "print(clf.best_params_)"
   ]
  },
  {
   "cell_type": "code",
   "execution_count": null,
   "id": "178e119b",
   "metadata": {},
   "outputs": [],
   "source": [
    "scv=SVC(C=2.5,decision_function_shape='ovo', gamma='auto', kernel='rbf', random_state=0)\n",
    "svc.fit(x_train_b, y_train_b)\n",
    "svc.score(x_train_b, y_train_b)\n",
    "svc_pred=svc.predict(x_test_b)\n",
    "\n",
    "svc_d=accuracy_score(y_test_b, svc_pred)\n",
    "print('Accuracy_core:', svc_d*100)\n",
    "\n",
    "svc_cv= cross_val_score(svc,x,y,cv=6, scoring='accuracy')\n",
    "svc_score=svc_cv.mean()\n",
    "print('Cross val Score :', svc_score*100)"
   ]
  },
  {
   "cell_type": "markdown",
   "id": "ed357bbe",
   "metadata": {},
   "source": [
    "RandomForestClassifier with accuracy_score: 84.375 Cross val Score : 85.44147980570897 is our best model."
   ]
  },
  {
   "cell_type": "markdown",
   "id": "c7b34d3d",
   "metadata": {},
   "source": [
    "# AUC ROC Curve:"
   ]
  },
  {
   "cell_type": "code",
   "execution_count": null,
   "id": "952ab653",
   "metadata": {},
   "outputs": [],
   "source": [
    "from sklearn.metrics import roc_curve, auc\n",
    "fpr, tpr, thresholds= roc_curve(rf_pred, y_test_b)\n",
    "roc_auc= auc(fpr, tpr)\n",
    "\n",
    "plt.figure()\n",
    "plt.plot(fpr,tpr, color='darkorange', lw=10,label='ROC curve (area= %0.2f)' %roc_auc)\n",
    "plt.plot([0,1],[0,1],color ='navy', lw=10, linestyle= '--')\n",
    "plt.xlim([0.0, 1.0])\n",
    "plt.xlim([0.0, 1.05])\n",
    "plt.xlabel('False Positive Rate')\n",
    "plt.ylabel('True Positive Rate')\n",
    "plt.title('Receiver operating characteristic')\n",
    "plt.legend(loc=\"lower right\")\n",
    "plt.show()"
   ]
  },
  {
   "cell_type": "code",
   "execution_count": null,
   "id": "358264db",
   "metadata": {},
   "outputs": [],
   "source": [
    "import pickle\n",
    "filename=\"Evaluation_Project_Loan_Application_Status_Prediction.pkl \"\n",
    "pickle.dump(dt, open(filename,'wb'))"
   ]
  },
  {
   "cell_type": "code",
   "execution_count": null,
   "id": "fa6a0be9",
   "metadata": {},
   "outputs": [],
   "source": [
    "import numpy as np\n",
    "a=np.array(y_test_b)\n",
    "predicted= np.array(rf.predict(x_test_b))\n",
    "df_com= pd.DataFrame({'original':a, 'predicted':predicted}, index= range(len(a)))\n",
    "df_com"
   ]
  },
  {
   "cell_type": "code",
   "execution_count": null,
   "id": "283417c3",
   "metadata": {},
   "outputs": [],
   "source": []
  },
  {
   "cell_type": "code",
   "execution_count": null,
   "id": "537cbfd3",
   "metadata": {},
   "outputs": [],
   "source": []
  }
 ],
 "metadata": {
  "kernelspec": {
   "display_name": "Python 3 (ipykernel)",
   "language": "python",
   "name": "python3"
  },
  "language_info": {
   "codemirror_mode": {
    "name": "ipython",
    "version": 3
   },
   "file_extension": ".py",
   "mimetype": "text/x-python",
   "name": "python",
   "nbconvert_exporter": "python",
   "pygments_lexer": "ipython3",
   "version": "3.9.15"
  }
 },
 "nbformat": 4,
 "nbformat_minor": 5
}
